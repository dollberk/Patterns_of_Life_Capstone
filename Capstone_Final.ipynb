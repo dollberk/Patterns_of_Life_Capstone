{
 "cells": [
  {
   "cell_type": "code",
   "execution_count": null,
   "metadata": {},
   "outputs": [],
   "source": [
    "import pandas as pd\n",
    "import numpy as np\n",
    "import seaborn as sns\n",
    "from PIL import Image\n",
    "import cv2\n",
    "import opencv_jupyter_ui\n",
    "import matplotlib.pyplot as plt\n",
    "from collections import defaultdict\n",
    "import calendar"
   ]
  },
  {
   "cell_type": "code",
   "execution_count": null,
   "metadata": {
    "pycharm": {
     "name": "#%%\n"
    }
   },
   "outputs": [],
   "source": [
    "#Read in the data\n",
    "data = pd.read_csv(\"Lekagul Sensor Data.csv\")\n",
    "data"
   ]
  },
  {
   "cell_type": "code",
   "execution_count": null,
   "metadata": {
    "pycharm": {
     "name": "#%%\n"
    }
   },
   "outputs": [],
   "source": [
    "#Check each column's data type\n",
    "data.dtypes"
   ]
  },
  {
   "cell_type": "code",
   "execution_count": null,
   "metadata": {
    "pycharm": {
     "name": "#%%\n"
    }
   },
   "outputs": [],
   "source": [
    "#Check for nulls\n",
    "data.isna().sum()"
   ]
  },
  {
   "cell_type": "code",
   "execution_count": null,
   "metadata": {
    "pycharm": {
     "name": "#%%\n"
    }
   },
   "outputs": [],
   "source": [
    "#Change variables to appropriate type\n",
    "data['Timestamp'] = pd.to_datetime(data['Timestamp'])\n",
    "data['car-type'] = data['car-type'].astype('category')\n",
    "data['gate-name'] = data['gate-name'].astype('category')\n",
    "#data[['car_id1', 'car_id2']] = data['car-id'].str.split('-', expand=True)\n",
    "#data['car_id1'] = pd.to_numeric(data['car_id1'])\n",
    "#data['car_id2'] = pd.to_numeric(data['car_id2'])\n",
    "#data = data.drop('car-id', axis=1)\n",
    "data"
   ]
  },
  {
   "cell_type": "code",
   "execution_count": null,
   "metadata": {
    "pycharm": {
     "name": "#%%\n"
    }
   },
   "outputs": [],
   "source": [
    "#Check each column's data type again\n",
    "data.dtypes"
   ]
  },
  {
   "cell_type": "code",
   "execution_count": null,
   "metadata": {
    "pycharm": {
     "name": "#%%\n"
    }
   },
   "outputs": [],
   "source": [
    "#Describe the statistics of the base data\n",
    "data.describe()"
   ]
  },
  {
   "cell_type": "code",
   "execution_count": null,
   "metadata": {
    "pycharm": {
     "name": "#%%\n"
    }
   },
   "outputs": [],
   "source": [
    "#Visualize distribution of each column & outliers\n",
    "data.hist(bins=1000, figsize=(15, 10))"
   ]
  },
  {
   "cell_type": "code",
   "execution_count": null,
   "metadata": {
    "pycharm": {
     "name": "#%%\n"
    }
   },
   "outputs": [],
   "source": [
    "#load in bmp\n",
    "img = cv2.imread('Lekagul Roadways.bmp')\n",
    "flip = img[::-1,:,:]\n",
    "#bmp = img.convert(mode=\"RGB\")\n",
    "pixel_values = flip[:,:,::-1]\n",
    "print(pixel_values)\n",
    "plt.imshow(flip[:,:,::-1],vmin=0,vmax=255), plt.show()\n",
    "plt.imshow(flip[:,:,::-1]), plt.gca().invert_yaxis(), plt.show()"
   ]
  },
  {
   "cell_type": "code",
   "execution_count": null,
   "metadata": {
    "pycharm": {
     "name": "#%%\n"
    }
   },
   "outputs": [],
   "source": [
    "print(pixel_values[0])\n",
    "\n",
    "#color names\n",
    "\n",
    "# (0, 0, 0), black\n",
    "#  (0, 255, 255), cyan\n",
    "#  (1, 1, 1), black\n",
    "#  (2, 2, 2), black\n",
    "#  (3, 3, 3), black\n",
    "#  (5, 5, 5), black\n",
    "#  (6, 6, 6), black\n",
    "#  (8, 8, 8), black\n",
    "#  (9, 9, 9), black\n",
    "#  (14, 14, 14), black\n",
    "#  (16, 16, 16),black\n",
    "#  (17, 17, 17),black\n",
    "#  (18, 18, 18),black\n",
    "#  (19, 19, 19),black\n",
    "#  (20, 20, 20),black\n",
    "#  (21, 21, 21),black\n",
    "#  (22, 22, 22),black\n",
    "#  (23, 23, 23),black\n",
    "#  (24, 24, 24),black\n",
    "#  (25, 25, 25),black\n",
    "#  (31, 31, 31),black\n",
    "#  (46, 46, 46),black\n",
    "#  (64, 64, 64),black\n",
    "#  (65, 65, 65),black\n",
    "#  (66, 66, 66),black\n",
    "#  (67, 67, 67),black\n",
    "#  (68, 68, 68),black\n",
    "#  (70, 70, 70),black\n",
    "#  (72, 72, 72),black\n",
    "#  (76, 255, 0),green\n",
    "#  (239, 239, 239),yellow\n",
    "#  (255, 0, 0),red\n",
    "#  (255, 0, 220),pink\n",
    "#  (255, 106, 0),orange\n",
    "#  (255, 216, 0),orange\n",
    "#  (255, 255, 255)white"
   ]
  },
  {
   "cell_type": "code",
   "execution_count": null,
   "metadata": {
    "pycharm": {
     "name": "#%%\n"
    }
   },
   "outputs": [],
   "source": [
    "#create np.array grid\n",
    "# replace color values with sensor names\n",
    "# 'R' signifies a road\n",
    "# '.' signifies empty space\n",
    "grid = [['.' for i in range(200)] for j in range(200)]\n",
    "\n",
    "for y in range(len(pixel_values)):\n",
    "    for x in range(len(pixel_values[y])):\n",
    "        if (pixel_values[x][y] == [0, 255, 255]).all():\n",
    "            grid[x][y] = 'General_Gate'\n",
    "        elif (pixel_values[x][y] == [76, 255, 0]).all():\n",
    "            grid[x][y] = 'Entrance'\n",
    "        elif ((pixel_values[x][y] == [255, 216, 0]).all()):\n",
    "            grid[x][y] = 'Ranger_Stop'\n",
    "        elif (pixel_values[x][y] == [255, 0, 0]).all():\n",
    "            grid[x][y] = 'Gate'\n",
    "        elif (pixel_values[x][y] == [255, 0, 220]).all():\n",
    "            grid[x][y] = 'Ranger_Base'\n",
    "        elif (pixel_values[x][y] == [255, 106, 0]).all():\n",
    "            grid[x][y] = 'Camping'\n",
    "        elif (pixel_values[x][y] == [255, 255, 255]).all():\n",
    "            grid[x][y] = 'R'\n",
    "        else:\n",
    "            continue\n",
    "\n",
    "print(grid)"
   ]
  },
  {
   "cell_type": "code",
   "execution_count": null,
   "metadata": {
    "pycharm": {
     "name": "#%%\n"
    }
   },
   "outputs": [],
   "source": [
    "#get just the coordinates of the sensors\n",
    "\n",
    "color_map = []\n",
    "for x in range(len(grid)):\n",
    "    for y in range(len(grid[x])):\n",
    "        if grid[x][y] == \".\":\n",
    "            continue\n",
    "        else:\n",
    "            color_map.append([grid[x][y], (y,x)])\n",
    "\n",
    "print(color_map)"
   ]
  },
  {
   "cell_type": "code",
   "execution_count": null,
   "metadata": {
    "pycharm": {
     "name": "#%%\n"
    }
   },
   "outputs": [],
   "source": [
    "#Still having issues with x,y axis\n",
    "# Flipped coordinates for color mapping in grid\n",
    "sensors_dict = defaultdict(list)\n",
    "for x in color_map:\n",
    "    if x[0] == 'R':\n",
    "        continue\n",
    "    else:\n",
    "        sensors_dict[x[0]].append(x[1])\n",
    "\n",
    "print(sensors_dict)\n",
    "\n",
    "#'Entrance':\n",
    "#   (140, 15) 4\n",
    "#   (115, 32) 3\n",
    "#   (183, 112) 2\n",
    "#   (17, 132) 1\n",
    "#   (62, 186) 0\n",
    "#'Gate':\n",
    "#   (138, 18) 8\n",
    "#   (97, 39) 7\n",
    "#   (116, 48) 6\n",
    "#   (131, 53) 5\n",
    "#   (164, 85) 4\n",
    "#   (149, 139) 3\n",
    "#   (24, 145) 2\n",
    "#   (58, 155) 1\n",
    "#   (63, 166) 0\n",
    "#'Camping':\n",
    "#   (150, 22) 6\n",
    "#   (181, 54) 7\n",
    "#   (20, 78) 5\n",
    "#   (48, 110) 4\n",
    "#   (45, 131) 2\n",
    "#   (44, 135) 3\n",
    "#   (129, 149) 1\n",
    "#   (183, 151) 8\n",
    "#   (52, 158) 0\n",
    "#'Ranger_Base':\n",
    "#   (128, 24)\n",
    "#'Ranger_Stop':\n",
    "#   (100, 47) 7\n",
    "#   (123, 52) 6\n",
    "#   (151, 81) 5\n",
    "#   (18, 104) 4\n",
    "#   (148, 154) 3\n",
    "#   (80, 164) 2\n",
    "#   (19, 175) 1\n",
    "#   (89, 183) 0\n",
    "#'General_Gate':\n",
    "#   (65, 55) 7\n",
    "#   (136, 62) 6\n",
    "#   (124, 88) 5\n",
    "#   (69, 101) 4\n",
    "#   (186, 144) 3\n",
    "#   (104, 167) 2\n",
    "#   (64, 174) 1\n",
    "#   (110, 190) 0"
   ]
  },
  {
   "cell_type": "code",
   "execution_count": null,
   "metadata": {
    "pycharm": {
     "name": "#%%\n"
    }
   },
   "outputs": [],
   "source": []
  },
  {
   "cell_type": "code",
   "execution_count": null,
   "metadata": {
    "pycharm": {
     "name": "#%%\n"
    }
   },
   "outputs": [],
   "source": [
    "#dictionary with car id and car type as key\n",
    "car_id_dict = defaultdict(list)\n",
    "for x in range(len(data['car-id'])):\n",
    "    car_id_dict[(data['car-id'][x], data['car-type'][x])].append((data['Timestamp'][x], data['gate-name'][x]))"
   ]
  },
  {
   "cell_type": "code",
   "execution_count": null,
   "metadata": {
    "pycharm": {
     "name": "#%%\n"
    }
   },
   "outputs": [],
   "source": [
    "#dictionary with timestamp as key\n",
    "time_dict = defaultdict(list)\n",
    "for x in range(len(data['car-id'])):\n",
    "    time_dict[data['Timestamp'][x]].append((data['car-id'][x], data['gate-name'][x], data['car-type'][x]))\n"
   ]
  },
  {
   "cell_type": "code",
   "execution_count": null,
   "metadata": {
    "pycharm": {
     "name": "#%%\n"
    }
   },
   "outputs": [],
   "source": [
    "#dictionary with vehicle type as key\n",
    "car_type_dict = defaultdict(list)\n",
    "for x in range(len(data['car-id'])):\n",
    "    car_type_dict[data['car-type'][x]].append((data['Timestamp'][x], data['gate-name'][x], data['car-id'][x]))\n",
    "\n"
   ]
  },
  {
   "cell_type": "code",
   "execution_count": null,
   "metadata": {
    "pycharm": {
     "name": "#%%\n"
    }
   },
   "outputs": [],
   "source": [
    "#dictionary with sensor name as key\n",
    "gate_dict = defaultdict(list)\n",
    "for x in range(len(data['car-id'])):\n",
    "    gate_dict[data['gate-name'][x]].append((data['car-id'][x], data['Timestamp'][x], data['car-type'][x]))\n"
   ]
  },
  {
   "cell_type": "code",
   "execution_count": null,
   "metadata": {
    "pycharm": {
     "name": "#%%\n"
    }
   },
   "outputs": [],
   "source": [
    "#create graph class\n",
    "\n",
    "\n",
    "class Graph(object):\n",
    "\n",
    "    def __init__(self, graph_dict=None):\n",
    "        if graph_dict == None:\n",
    "            graph_dict = {}\n",
    "        self._graph_dict = graph_dict\n",
    "    def edges(self, vertex):\n",
    "        return self._graph_dict[vertex]\n",
    "    def all_vertices(self):\n",
    "        return set(self._graph_dict.keys())\n",
    "    def all_edges(self):\n",
    "        return self._generate_edges()\n",
    "    def add_vertex(self, vertex):\n",
    "        if vertex not in self._graph_dict:\n",
    "            self._graph_dict[vertex] = []\n",
    "    def add_edge(self, edge):\n",
    "        edge = set(edge)\n",
    "        v1, v2 = tuple(edge)\n",
    "        for x, y in [(v1, v2), (v2, v1)]:\n",
    "            for x in self._graph_dict:\n",
    "                self._graph_dict[x].add(y)\n",
    "            else:\n",
    "                self._graph_dict[x] = [y]\n",
    "    def _generate_edges(self):\n",
    "        edges = []\n",
    "        for vertex in self._graph_dict:\n",
    "            for neighbor in self._graph_dict[vertex]:\n",
    "                if {neighbor, vertex} not in edges:\n",
    "                    edges.append({vertex, neighbor})\n",
    "        return edges\n",
    "    def __iter__(self):\n",
    "        self._iter_obj = iter(self._graph_dict)\n",
    "        return self._iter_obj\n",
    "    def __next__(self):\n",
    "        return next(self._iter_obj)\n",
    "    def __str__(self):\n",
    "        res = \"vertices: \"\n",
    "        for k in self._graph_dict:\n",
    "            res += str(k) + \" \"\n",
    "        res += \"\\nedges: \"\n",
    "        for edge in self._generate_edges():\n",
    "            res += str(edge) + \" \"\n",
    "        return res"
   ]
  },
  {
   "cell_type": "code",
   "execution_count": null,
   "metadata": {
    "pycharm": {
     "name": "#%%\n"
    }
   },
   "outputs": [],
   "source": [
    "#create graph of all sensors\n",
    "\n",
    "g = {\"Entrance_0\": {'General_gate_1', 'Gate_0', 'General_gate_4', 'General_gate_7', 'Gate_7', 'Gate_6', 'Entrance_3'},\n",
    "     \"Entrance_1\": {'Gate_2', 'Camping_2', 'Camping_3', 'Camping_4', 'Camping_0', 'Gate_1', 'General_gate_7'},\n",
    "     \"Entrance_2\": {'General_gate_3', 'Gate_3', 'Camping_8', 'Camping_1', 'General_gate_0', 'General_gate_2', 'General_gate_5', 'Gate_4', 'General_gate_6', 'Gate_5', 'Camping_6', 'Gate_8', 'Entrance_4'},\n",
    "     \"Entrance_3\": {'Gate_6', 'Gate_7', 'General_gate_7', 'General_gate_4', 'Gate_0', 'General_gate_1', 'Entrance_0'},\n",
    "     \"Entrance_4\": {'Gate_8', 'Camping_6', 'Gate_5', 'General_gate_6', 'Gate_4', 'Entrance_2', 'General_gate_3', 'General_gate_5', 'Gate_3', 'Camping_8', 'Camping_1', 'General_gate_0', 'General_gate_2'},\n",
    "     \"Gate_0\": {'Gate_1', 'Entrance_0', 'General_gate_1', 'General_gate_4', 'Gate_6', 'Entrance_3', 'General_gate_7', 'Gate_7'},\n",
    "     \"Gate_1\": {'Camping_0', 'Gate_0', 'Camping_3', 'Camping_4', 'Entrance_1', 'Gate_2', 'Camping_2', 'General_gate_7'},\n",
    "     \"Gate_2\": {'Ranger_stop_1', 'Camping_2', 'Entrance_1', 'Camping_4', 'Camping_3', 'Camping_0', 'Gate_1', 'General_gate_7'},\n",
    "     \"Gate_3\": {'Ranger_stop_3', 'Camping_8', 'Camping_1', 'General_gate_0', 'General_gate_2', 'General_gate_5', 'General_gate_3', 'Entrance_2', 'Gate_4', 'General_gate_6', 'Gate_5', 'Camping_6', 'Gate_8', 'Entrance_4'},\n",
    "     \"Gate_4\": {'Ranger_stop_5', 'Entrance_2', 'General_gate_3', 'General_gate_5', 'Gate_3', 'Camping_8', 'Camping_1', 'General_gate_0', 'General_gate_2', 'General_gate_6', 'Gate_5', 'Camping_6', 'Gate_8', 'Entrance_4'},\n",
    "     \"Gate_5\": {'Ranger_stop_6', 'Camping_6', 'Gate_8', 'Entrance_4', 'General_gate_6', 'General_gate_5', 'Gate_4', 'Entrance_2', 'General_gate_3', 'Camping_8', 'Gate_3', 'Camping_1', 'General_gate_0', 'General_gate_0'},\n",
    "     \"Gate_6\": {'Ranger_stop_6', 'Entrance_3', 'Entrance_0', 'General_gate_1', 'Gate_0', 'General_gate_4', 'General_gate_7', 'Gate_7'},\n",
    "     \"Gate_7\": {'Ranger_stop_7', 'General_gate_7', 'General_gate_4', 'Gate_6', 'Entrance_3', 'Gate_0', 'General_gate_1', 'Entrance_0'},\n",
    "     \"Gate_8\": {'Ranger_base', 'Entrance_4', 'Camping_6', 'Gate_5', 'General_gate_6', 'General_gate_5', 'Gate_4', 'Entrance_2', 'General_gate_3', 'Camping_8', 'Gate_3', 'Camping_1', 'General_gate_0', 'General_gate_2'},\n",
    "     \"Camping_0\": {'Gate_1', 'Camping_3', 'Camping_4', 'Entrance_1', 'Gate_2', 'Camping_2', 'General_gate_7'},\n",
    "     \"Camping_1\": {'General_gate_0', 'General_gate_2', 'General_gate_5', 'Gate_3', 'Camping_8', 'General_gate_3', 'Entrance_2', 'Gate_4', 'General_gate_6', 'Gate_5', 'Camping_6', 'Gate_8', 'Entrance_4'},\n",
    "     \"Camping_2\": {'Gate_2', 'Entrance_1', 'Camping_4', 'Camping_3', 'Camping_0', 'Gate_1', 'General_gate_7'},\n",
    "     \"Camping_3\": {'Gate_1', 'Camping_0', 'Camping_4', 'Entrance_1', 'Gate_2', 'Camping_2', 'General_gate_7'},\n",
    "     \"Camping_4\": {'General_gate_7', 'Gate_1', 'Camping_0', 'Camping_3', 'Entrance_1', 'Gate_2', 'Camping_2'},\n",
    "     \"Camping_5\": {'Ranger_stop_4', 'General_gate_7'},\n",
    "     \"Camping_6\": {'Entrance_4', 'Gate_8', 'Gate_5', 'General_gate_6', 'General_gate_5', 'Gate_4', 'Entrance_2', 'General_gate_3', 'Gate_3', 'Camping_8', 'Camping_1', 'General_gate_0', 'General_gate_2'},\n",
    "     \"Camping_7\": {'General_gate_6'},\n",
    "     \"Camping_8\": {'General_gate_3', 'Gate_3', 'Camping_1', 'General_gate_0', 'General_gate_2', 'General_gate_5', 'Entrance_2', 'Gate_4', 'General_gate_6', 'Gate_5', 'Camping_6', 'Gate_8', 'Entrance_4'},\n",
    "     \"General_gate_0\": {'General_gate_2', 'Camping_1', 'Gate_3', 'Camping_8', 'General_gate_5', 'General_gate_3', 'Entrance_2', 'Gate_4', 'General_gate_6', 'Gate_5', 'Camping_6', 'Gate_8', 'Entrance_4'},\n",
    "     \"General_gate_1\": {'Entrance_0', 'Gate_0', 'Ranger_stop_2', 'General_gate_4', 'Gate_6', 'Entrance_3', 'General_gate_7', 'Gate_7'},\n",
    "     \"General_gate_2\": {'Ranger_stop_0', 'General_gate_0', 'Camping_1', 'General_gate_5', 'Gate_3', 'Camping_8', 'General_gate_3', 'Entrance_2', 'Gate_4', 'General_gate_6', 'Gate_5', 'Camping_6', 'Gate_8', 'Entrance_4'},\n",
    "     \"General_gate_3\": {'Camping_8', 'Entrance_2', 'Gate_4', 'General_gate_6', 'Gate_5', 'Camping_6', 'Gate_8', 'Entrance_4', 'General_gate_5', 'Gate_3', 'Camping_1', 'General_gate_0', 'General_gate_2'},\n",
    "     \"General_gate_4\": {'Entrance_0', 'General_gate_1', 'Gate_0', 'Gate_6', 'Entrance_3', 'Gate_7', 'General_gate_7'},\n",
    "     \"General_gate_5\": {'Gate_5', 'Camping_6', 'Gate_8', 'Entrance_4', 'General_gate_6', 'Gate_4', 'Entrance_2', 'General_gate_3', 'Camping_8', 'Gate_3', 'Camping_1', 'General_gate_0', 'General_gate_2'},\n",
    "     \"General_gate_6\": {'Camping_7', 'Gate_5', 'Camping_6', 'Gate_8', 'Entrance_4', 'General_gate_5', 'Gate_4', 'Entrance_2', 'General_gate_3', 'Camping_8', 'Gate_3', 'Camping_1', 'General_gate_0', 'General_gate_2'},\n",
    "     \"General_gate_7\": {'Camping_5', 'Ranger_stop_4', 'Gate_7', 'General_gate_4', 'Gate_6', 'Entrance_3', 'Entrance_1', 'Gate_2', 'Camping_2', 'Camping_4', 'Camping_3', 'Camping_0', 'Gate_1', 'Gate_0', 'General_gate_1', 'Entrance_0'},\n",
    "     \"Ranger_stop_0\": {'Ranger_stop_2', 'General_gate_2'},\n",
    "     \"Ranger_stop_1\": {'Gate_2'},\n",
    "     \"Ranger_stop_2\": {'Ranger_stop_0', 'General_gate_1'},\n",
    "     \"Ranger_stop_3\": {'Gate_3'},\n",
    "     \"Ranger_stop_4\": {'Camping_5', 'General_gate_7'},\n",
    "     \"Ranger_stop_5\": {'Gate_4'},\n",
    "     \"Ranger_stop_6\": {'Gate_5', 'Gate_6'},\n",
    "     \"Ranger_stop_7\": {'Gate_7'},\n",
    "     \"Ranger_base\": {'Gate_8'},\n",
    "     }\n",
    "\n",
    "g = Graph(g)"
   ]
  },
  {
   "cell_type": "code",
   "execution_count": null,
   "metadata": {
    "pycharm": {
     "name": "#%%\n"
    }
   },
   "outputs": [],
   "source": [
    "#sort card id dictionary by timestamp\n",
    "#thi will show the 'path' of each car over time\n",
    "car_sorted = {x:sorted(car_id_dict[x]) for x in car_id_dict.keys()}"
   ]
  },
  {
   "cell_type": "code",
   "execution_count": null,
   "metadata": {
    "pycharm": {
     "name": "#%%\n"
    }
   },
   "outputs": [],
   "source": [
    "#Example to make sure times are sorted ascending\n",
    "print(car_id_dict[('20154301124328-262', '4')])"
   ]
  },
  {
   "cell_type": "code",
   "execution_count": null,
   "metadata": {
    "pycharm": {
     "name": "#%%\n"
    }
   },
   "outputs": [],
   "source": [
    "# track individual cars\n",
    "print(\"Number of individual cars:\",len(data['car-id'].unique()))"
   ]
  },
  {
   "cell_type": "code",
   "execution_count": null,
   "metadata": {},
   "outputs": [],
   "source": [
    "# separate out by month to see trends\n",
    "data['month'] = [d.strftime('%b') for d in data.Timestamp]\n",
    "data.head()"
   ]
  },
  {
   "cell_type": "code",
   "execution_count": null,
   "metadata": {},
   "outputs": [],
   "source": [
    "# visualize data overall\n",
    "sns.countplot(x=data.month)"
   ]
  },
  {
   "cell_type": "code",
   "execution_count": null,
   "metadata": {
    "scrolled": false
   },
   "outputs": [],
   "source": [
    "# visualize data grouped by car type and month\n",
    "for t in sorted(data['car-type'].unique()):\n",
    "    sns.countplot(x=data.month[data['car-type']==t]).set(title=[\"Car type\", t])\n",
    "    plt.show()"
   ]
  },
  {
   "cell_type": "code",
   "execution_count": null,
   "metadata": {},
   "outputs": [],
   "source": [
    "# separate out by weekdays\n",
    "data['day'] = [calendar.day_name[int(d.weekday())] for d in data.Timestamp]\n",
    "data['days'] = [d.weekday() for d in data.Timestamp]\n",
    "data['hours'] = [d.hour for d in data.Timestamp]\n",
    "data.head()"
   ]
  },
  {
   "cell_type": "code",
   "execution_count": null,
   "metadata": {},
   "outputs": [],
   "source": [
    "# visualize data grouped by car type and month\n",
    "for t in sorted(data['car-type'].unique()):\n",
    "    sns.countplot(x=data.hours[data['car-type']==t]).set(title=[\"Car type\", t])\n",
    "    plt.show()"
   ]
  },
  {
   "cell_type": "code",
   "execution_count": null,
   "metadata": {},
   "outputs": [],
   "source": [
    "# this attempt gives no real information\n",
    "groups = data.groupby(['month', 'days', 'car-type']).size()"
   ]
  },
  {
   "cell_type": "code",
   "execution_count": null,
   "metadata": {},
   "outputs": [],
   "source": [
    "# attempt to use pivot tables for visualization; \n",
    "info = data.pivot_table(index=\"month\",columns=\"days\",values=\"car-type\",aggfunc=\"sum\")\n",
    "sns.heatmap(info)"
   ]
  },
  {
   "cell_type": "code",
   "execution_count": null,
   "metadata": {},
   "outputs": [],
   "source": [
    "# a heatmap attempt \n",
    "sns.heatmap(data.groupby(['month', 'days', 'car-type']).size()[:, np.newaxis])"
   ]
  },
  {
   "cell_type": "code",
   "execution_count": null,
   "metadata": {},
   "outputs": [],
   "source": [
    "# another heatmap attempt\n",
    "times = np.asarray(data.days).reshape(171477,1)\n",
    "sns.heatmap(times)"
   ]
  },
  {
   "cell_type": "code",
   "execution_count": null,
   "metadata": {},
   "outputs": [],
   "source": [
    "# this attempt did not work to separate out cars by type\n",
    "graph = data.set_index('day')\n",
    "print(graph.head())\n",
    "graph.groupby('day').count()['car-type'].plot(legend=True)"
   ]
  },
  {
   "cell_type": "code",
   "execution_count": null,
   "metadata": {},
   "outputs": [],
   "source": [
    "g = data.groupby('month')['car-type'].value_counts()\n",
    "g.head()\n"
   ]
  },
  {
   "cell_type": "code",
   "execution_count": null,
   "metadata": {},
   "outputs": [],
   "source": [
    "g.plot(legend=True)"
   ]
  },
  {
   "cell_type": "code",
   "execution_count": null,
   "metadata": {},
   "outputs": [],
   "source": [
    "p = data.groupby(['month', 'car-type']).size()\n",
    "p.head()"
   ]
  },
  {
   "cell_type": "code",
   "execution_count": null,
   "metadata": {},
   "outputs": [],
   "source": [
    "p.unstack().plot(legend=True)"
   ]
  },
  {
   "cell_type": "code",
   "execution_count": null,
   "metadata": {},
   "outputs": [],
   "source": [
    "l = data.groupby(['days','car-type']).size()\n",
    "l.unstack().plot(legend=True)"
   ]
  },
  {
   "cell_type": "code",
   "execution_count": null,
   "metadata": {},
   "outputs": [],
   "source": [
    "m = data.groupby(['month','days','car-type']).size()\n",
    "m.unstack().plot(legend=True)"
   ]
  },
  {
   "cell_type": "code",
   "execution_count": null,
   "metadata": {},
   "outputs": [],
   "source": [
    "m = data.groupby(['gate-name','car-type']).size()\n",
    "m.unstack().plot(legend=True)"
   ]
  },
  {
   "cell_type": "code",
   "execution_count": null,
   "metadata": {},
   "outputs": [],
   "source": [
    "n = data.groupby(['hours', 'car-type']).size()\n",
    "n.unstack().plot(legend=True)"
   ]
  },
  {
   "cell_type": "code",
   "execution_count": null,
   "metadata": {},
   "outputs": [],
   "source": [
    "# another heatmap attempt. not having luck with not having duplicate indexes...???\n",
    "data[\"months2\"] = pd.Categorical(data[\"month\"], data.month.unique())\n",
    "data[\"days2\"] = pd.Categorical(data[\"days\"], data.days.unique())\n",
    "data[\"cars2\"] = pd.Categorical(data[\"car-type\"], data[\"car-type\"].unique())\n",
    "car_matrix = data.pivot(\"months2\",\"days\",\"car-type\")\n",
    "r = sns.heatmap (car_matrix, cmap='BuPu')"
   ]
  },
  {
   "cell_type": "code",
   "execution_count": null,
   "metadata": {},
   "outputs": [],
   "source": []
  }
 ],
 "metadata": {
  "kernelspec": {
   "display_name": "Python 3 (ipykernel)",
   "language": "python",
   "name": "python3"
  },
  "language_info": {
   "codemirror_mode": {
    "name": "ipython",
    "version": 3
   },
   "file_extension": ".py",
   "mimetype": "text/x-python",
   "name": "python",
   "nbconvert_exporter": "python",
   "pygments_lexer": "ipython3",
   "version": "3.9.10"
  }
 },
 "nbformat": 4,
 "nbformat_minor": 1
}
