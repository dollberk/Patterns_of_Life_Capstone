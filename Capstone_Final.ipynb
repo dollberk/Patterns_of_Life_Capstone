{
 "cells": [
  {
   "cell_type": "code",
   "execution_count": 1,
   "metadata": {
    "pycharm": {
     "name": "#%%\n"
    }
   },
   "outputs": [],
   "source": [
    "import pandas as pd\n",
    "import numpy as np\n",
    "import seaborn as sns\n",
    "import cv2\n",
    "import matplotlib.pyplot as plt\n",
    "from collections import defaultdict\n",
    "import calendar\n",
    "from datetime import datetime"
   ]
  },
  {
   "cell_type": "code",
   "execution_count": 2,
   "metadata": {
    "pycharm": {
     "name": "#%%\n"
    }
   },
   "outputs": [
    {
     "data": {
      "text/plain": "                  Timestamp              car-id car-type      gate-name\n0       2015-05-01 00:43:28  20154301124328-262        4      entrance3\n1       2015-05-01 01:03:48  20154301124328-262        4  general-gate1\n2       2015-05-01 01:06:24  20154301124328-262        4   ranger-stop2\n3       2015-05-01 01:09:25  20154301124328-262        4   ranger-stop0\n4       2015-05-01 01:12:36  20154301124328-262        4  general-gate2\n...                     ...                 ...      ...            ...\n171472  2016-05-31 23:40:13  20161031111001-854        6   ranger-stop2\n171473  2016-05-31 23:42:08  20165831105856-579        1  general-gate4\n171474  2016-05-31 23:43:13  20161031111001-854        6  general-gate1\n171475  2016-05-31 23:49:45  20165831105856-579        1  general-gate7\n171476  2016-05-31 23:56:06  20161031111001-854        6  general-gate4\n\n[171477 rows x 4 columns]",
      "text/html": "<div>\n<style scoped>\n    .dataframe tbody tr th:only-of-type {\n        vertical-align: middle;\n    }\n\n    .dataframe tbody tr th {\n        vertical-align: top;\n    }\n\n    .dataframe thead th {\n        text-align: right;\n    }\n</style>\n<table border=\"1\" class=\"dataframe\">\n  <thead>\n    <tr style=\"text-align: right;\">\n      <th></th>\n      <th>Timestamp</th>\n      <th>car-id</th>\n      <th>car-type</th>\n      <th>gate-name</th>\n    </tr>\n  </thead>\n  <tbody>\n    <tr>\n      <th>0</th>\n      <td>2015-05-01 00:43:28</td>\n      <td>20154301124328-262</td>\n      <td>4</td>\n      <td>entrance3</td>\n    </tr>\n    <tr>\n      <th>1</th>\n      <td>2015-05-01 01:03:48</td>\n      <td>20154301124328-262</td>\n      <td>4</td>\n      <td>general-gate1</td>\n    </tr>\n    <tr>\n      <th>2</th>\n      <td>2015-05-01 01:06:24</td>\n      <td>20154301124328-262</td>\n      <td>4</td>\n      <td>ranger-stop2</td>\n    </tr>\n    <tr>\n      <th>3</th>\n      <td>2015-05-01 01:09:25</td>\n      <td>20154301124328-262</td>\n      <td>4</td>\n      <td>ranger-stop0</td>\n    </tr>\n    <tr>\n      <th>4</th>\n      <td>2015-05-01 01:12:36</td>\n      <td>20154301124328-262</td>\n      <td>4</td>\n      <td>general-gate2</td>\n    </tr>\n    <tr>\n      <th>...</th>\n      <td>...</td>\n      <td>...</td>\n      <td>...</td>\n      <td>...</td>\n    </tr>\n    <tr>\n      <th>171472</th>\n      <td>2016-05-31 23:40:13</td>\n      <td>20161031111001-854</td>\n      <td>6</td>\n      <td>ranger-stop2</td>\n    </tr>\n    <tr>\n      <th>171473</th>\n      <td>2016-05-31 23:42:08</td>\n      <td>20165831105856-579</td>\n      <td>1</td>\n      <td>general-gate4</td>\n    </tr>\n    <tr>\n      <th>171474</th>\n      <td>2016-05-31 23:43:13</td>\n      <td>20161031111001-854</td>\n      <td>6</td>\n      <td>general-gate1</td>\n    </tr>\n    <tr>\n      <th>171475</th>\n      <td>2016-05-31 23:49:45</td>\n      <td>20165831105856-579</td>\n      <td>1</td>\n      <td>general-gate7</td>\n    </tr>\n    <tr>\n      <th>171476</th>\n      <td>2016-05-31 23:56:06</td>\n      <td>20161031111001-854</td>\n      <td>6</td>\n      <td>general-gate4</td>\n    </tr>\n  </tbody>\n</table>\n<p>171477 rows × 4 columns</p>\n</div>"
     },
     "execution_count": 2,
     "metadata": {},
     "output_type": "execute_result"
    }
   ],
   "source": [
    "#Read in the data\n",
    "data = pd.read_csv(\"Lekagul Sensor Data.csv\")\n",
    "data"
   ]
  },
  {
   "cell_type": "code",
   "execution_count": 3,
   "metadata": {
    "pycharm": {
     "name": "#%%\n"
    }
   },
   "outputs": [
    {
     "data": {
      "text/plain": "Timestamp    object\ncar-id       object\ncar-type     object\ngate-name    object\ndtype: object"
     },
     "execution_count": 3,
     "metadata": {},
     "output_type": "execute_result"
    }
   ],
   "source": [
    "#Check each column's data type\n",
    "data.dtypes"
   ]
  },
  {
   "cell_type": "code",
   "execution_count": 4,
   "metadata": {
    "pycharm": {
     "name": "#%%\n"
    }
   },
   "outputs": [
    {
     "data": {
      "text/plain": "Timestamp    0\ncar-id       0\ncar-type     0\ngate-name    0\ndtype: int64"
     },
     "execution_count": 4,
     "metadata": {},
     "output_type": "execute_result"
    }
   ],
   "source": [
    "#Check for nulls\n",
    "data.isna().sum()"
   ]
  },
  {
   "cell_type": "code",
   "execution_count": 5,
   "metadata": {
    "pycharm": {
     "name": "#%%\n"
    }
   },
   "outputs": [
    {
     "data": {
      "text/plain": "                 Timestamp              car-id car-type      gate-name\n0      2015-05-01 00:43:28  20154301124328-262        4      entrance3\n1      2015-05-01 01:03:48  20154301124328-262        4  general-gate1\n2      2015-05-01 01:06:24  20154301124328-262        4   ranger-stop2\n3      2015-05-01 01:09:25  20154301124328-262        4   ranger-stop0\n4      2015-05-01 01:12:36  20154301124328-262        4  general-gate2\n...                    ...                 ...      ...            ...\n171472 2016-05-31 23:40:13  20161031111001-854        6   ranger-stop2\n171473 2016-05-31 23:42:08  20165831105856-579        1  general-gate4\n171474 2016-05-31 23:43:13  20161031111001-854        6  general-gate1\n171475 2016-05-31 23:49:45  20165831105856-579        1  general-gate7\n171476 2016-05-31 23:56:06  20161031111001-854        6  general-gate4\n\n[171477 rows x 4 columns]",
      "text/html": "<div>\n<style scoped>\n    .dataframe tbody tr th:only-of-type {\n        vertical-align: middle;\n    }\n\n    .dataframe tbody tr th {\n        vertical-align: top;\n    }\n\n    .dataframe thead th {\n        text-align: right;\n    }\n</style>\n<table border=\"1\" class=\"dataframe\">\n  <thead>\n    <tr style=\"text-align: right;\">\n      <th></th>\n      <th>Timestamp</th>\n      <th>car-id</th>\n      <th>car-type</th>\n      <th>gate-name</th>\n    </tr>\n  </thead>\n  <tbody>\n    <tr>\n      <th>0</th>\n      <td>2015-05-01 00:43:28</td>\n      <td>20154301124328-262</td>\n      <td>4</td>\n      <td>entrance3</td>\n    </tr>\n    <tr>\n      <th>1</th>\n      <td>2015-05-01 01:03:48</td>\n      <td>20154301124328-262</td>\n      <td>4</td>\n      <td>general-gate1</td>\n    </tr>\n    <tr>\n      <th>2</th>\n      <td>2015-05-01 01:06:24</td>\n      <td>20154301124328-262</td>\n      <td>4</td>\n      <td>ranger-stop2</td>\n    </tr>\n    <tr>\n      <th>3</th>\n      <td>2015-05-01 01:09:25</td>\n      <td>20154301124328-262</td>\n      <td>4</td>\n      <td>ranger-stop0</td>\n    </tr>\n    <tr>\n      <th>4</th>\n      <td>2015-05-01 01:12:36</td>\n      <td>20154301124328-262</td>\n      <td>4</td>\n      <td>general-gate2</td>\n    </tr>\n    <tr>\n      <th>...</th>\n      <td>...</td>\n      <td>...</td>\n      <td>...</td>\n      <td>...</td>\n    </tr>\n    <tr>\n      <th>171472</th>\n      <td>2016-05-31 23:40:13</td>\n      <td>20161031111001-854</td>\n      <td>6</td>\n      <td>ranger-stop2</td>\n    </tr>\n    <tr>\n      <th>171473</th>\n      <td>2016-05-31 23:42:08</td>\n      <td>20165831105856-579</td>\n      <td>1</td>\n      <td>general-gate4</td>\n    </tr>\n    <tr>\n      <th>171474</th>\n      <td>2016-05-31 23:43:13</td>\n      <td>20161031111001-854</td>\n      <td>6</td>\n      <td>general-gate1</td>\n    </tr>\n    <tr>\n      <th>171475</th>\n      <td>2016-05-31 23:49:45</td>\n      <td>20165831105856-579</td>\n      <td>1</td>\n      <td>general-gate7</td>\n    </tr>\n    <tr>\n      <th>171476</th>\n      <td>2016-05-31 23:56:06</td>\n      <td>20161031111001-854</td>\n      <td>6</td>\n      <td>general-gate4</td>\n    </tr>\n  </tbody>\n</table>\n<p>171477 rows × 4 columns</p>\n</div>"
     },
     "execution_count": 5,
     "metadata": {},
     "output_type": "execute_result"
    }
   ],
   "source": [
    "#Change variables to appropriate type\n",
    "data['Timestamp'] = pd.to_datetime(data['Timestamp'])\n",
    "data['car-type'] = data['car-type'].astype('category')\n",
    "data['gate-name'] = data['gate-name'].astype('category')\n",
    "\n",
    "data"
   ]
  },
  {
   "cell_type": "code",
   "execution_count": 6,
   "metadata": {
    "pycharm": {
     "name": "#%%\n"
    }
   },
   "outputs": [
    {
     "data": {
      "text/plain": "Timestamp    datetime64[ns]\ncar-id               object\ncar-type           category\ngate-name          category\ndtype: object"
     },
     "execution_count": 6,
     "metadata": {},
     "output_type": "execute_result"
    }
   ],
   "source": [
    "#Check each column's data type again\n",
    "data.dtypes"
   ]
  },
  {
   "cell_type": "code",
   "execution_count": 7,
   "metadata": {
    "pycharm": {
     "name": "#%%\n"
    }
   },
   "outputs": [
    {
     "name": "stderr",
     "output_type": "stream",
     "text": [
      "/var/folders/cr/vfq_sd4d21n4gk63s5b8v_dh0000gn/T/ipykernel_76478/2462266413.py:2: FutureWarning: Treating datetime data as categorical rather than numeric in `.describe` is deprecated and will be removed in a future version of pandas. Specify `datetime_is_numeric=True` to silence this warning and adopt the future behavior now.\n",
      "  data.describe()\n"
     ]
    },
    {
     "data": {
      "text/plain": "                  Timestamp              car-id car-type      gate-name\ncount                171477              171477   171477         171477\nunique               170298               18708        7             40\ntop     2015-07-31 12:00:02  20154519024544-322        1  general-gate7\nfreq                      5                 281    67698          16119\nfirst   2015-05-01 00:43:28                 NaN      NaN            NaN\nlast    2016-05-31 23:56:06                 NaN      NaN            NaN",
      "text/html": "<div>\n<style scoped>\n    .dataframe tbody tr th:only-of-type {\n        vertical-align: middle;\n    }\n\n    .dataframe tbody tr th {\n        vertical-align: top;\n    }\n\n    .dataframe thead th {\n        text-align: right;\n    }\n</style>\n<table border=\"1\" class=\"dataframe\">\n  <thead>\n    <tr style=\"text-align: right;\">\n      <th></th>\n      <th>Timestamp</th>\n      <th>car-id</th>\n      <th>car-type</th>\n      <th>gate-name</th>\n    </tr>\n  </thead>\n  <tbody>\n    <tr>\n      <th>count</th>\n      <td>171477</td>\n      <td>171477</td>\n      <td>171477</td>\n      <td>171477</td>\n    </tr>\n    <tr>\n      <th>unique</th>\n      <td>170298</td>\n      <td>18708</td>\n      <td>7</td>\n      <td>40</td>\n    </tr>\n    <tr>\n      <th>top</th>\n      <td>2015-07-31 12:00:02</td>\n      <td>20154519024544-322</td>\n      <td>1</td>\n      <td>general-gate7</td>\n    </tr>\n    <tr>\n      <th>freq</th>\n      <td>5</td>\n      <td>281</td>\n      <td>67698</td>\n      <td>16119</td>\n    </tr>\n    <tr>\n      <th>first</th>\n      <td>2015-05-01 00:43:28</td>\n      <td>NaN</td>\n      <td>NaN</td>\n      <td>NaN</td>\n    </tr>\n    <tr>\n      <th>last</th>\n      <td>2016-05-31 23:56:06</td>\n      <td>NaN</td>\n      <td>NaN</td>\n      <td>NaN</td>\n    </tr>\n  </tbody>\n</table>\n</div>"
     },
     "execution_count": 7,
     "metadata": {},
     "output_type": "execute_result"
    }
   ],
   "source": [
    "#Describe the statistics of the base data\n",
    "data.describe()"
   ]
  },
  {
   "cell_type": "code",
   "execution_count": 8,
   "metadata": {
    "pycharm": {
     "name": "#%%\n"
    }
   },
   "outputs": [
    {
     "data": {
      "text/plain": "array([[<AxesSubplot:title={'center':'Timestamp'}>]], dtype=object)"
     },
     "execution_count": 8,
     "metadata": {},
     "output_type": "execute_result"
    },
    {
     "data": {
      "text/plain": "<Figure size 1080x720 with 1 Axes>",
      "image/png": "[encoded data removed]"
     },
     "metadata": {},
     "output_type": "display_data"
    }
   ],
   "source": [
    "#Visualize distribution of each column & outliers\n",
    "data.hist(bins=1000, figsize=(15, 10))"
   ]
  },
  {
   "cell_type": "code",
   "execution_count": 9,
   "metadata": {
    "pycharm": {
     "name": "#%%\n"
    }
   },
   "outputs": [
    {
     "data": {
      "text/plain": "<Figure size 432x288 with 1 Axes>",
      "image/png": "[encoded data removed]"
     },
     "metadata": {},
     "output_type": "display_data"
    },
    {
     "data": {
      "text/plain": "<Figure size 432x288 with 1 Axes>",
      "image/png": "[encoded data removed]"
     },
     "metadata": {},
     "output_type": "display_data"
    },
    {
     "data": {
      "text/plain": "(<matplotlib.image.AxesImage at 0x12eef3c10>, None, None)"
     },
     "execution_count": 9,
     "metadata": {},
     "output_type": "execute_result"
    }
   ],
   "source": [
    "#load in bmp\n",
    "img = cv2.imread('Lekagul Roadways.bmp')\n",
    "flip = img[::-1,:,:]\n",
    "pixel_values = flip[:,:,::-1]\n",
    "plt.imshow(flip[:,:,::-1],vmin=0,vmax=255), plt.show()\n",
    "plt.imshow(flip[:,:,::-1]), plt.gca().invert_yaxis(), plt.show()"
   ]
  },
  {
   "cell_type": "code",
   "execution_count": 10,
   "metadata": {
    "pycharm": {
     "name": "#%%\n"
    }
   },
   "outputs": [],
   "source": [
    "#color names\n",
    "\n",
    "# (0, 0, 0), black\n",
    "#  (0, 255, 255), cyan\n",
    "#  (1, 1, 1), black\n",
    "#  (2, 2, 2), black\n",
    "#  (3, 3, 3), black\n",
    "#  (5, 5, 5), black\n",
    "#  (6, 6, 6), black\n",
    "#  (8, 8, 8), black\n",
    "#  (9, 9, 9), black\n",
    "#  (14, 14, 14), black\n",
    "#  (16, 16, 16),black\n",
    "#  (17, 17, 17),black\n",
    "#  (18, 18, 18),black\n",
    "#  (19, 19, 19),black\n",
    "#  (20, 20, 20),black\n",
    "#  (21, 21, 21),black\n",
    "#  (22, 22, 22),black\n",
    "#  (23, 23, 23),black\n",
    "#  (24, 24, 24),black\n",
    "#  (25, 25, 25),black\n",
    "#  (31, 31, 31),black\n",
    "#  (46, 46, 46),black\n",
    "#  (64, 64, 64),black\n",
    "#  (65, 65, 65),black\n",
    "#  (66, 66, 66),black\n",
    "#  (67, 67, 67),black\n",
    "#  (68, 68, 68),black\n",
    "#  (70, 70, 70),black\n",
    "#  (72, 72, 72),black\n",
    "#  (76, 255, 0),green\n",
    "#  (239, 239, 239),yellow\n",
    "#  (255, 0, 0),red\n",
    "#  (255, 0, 220),pink\n",
    "#  (255, 106, 0),orange\n",
    "#  (255, 216, 0),orange\n",
    "#  (255, 255, 255)white"
   ]
  },
  {
   "cell_type": "code",
   "execution_count": 11,
   "metadata": {
    "pycharm": {
     "name": "#%%\n"
    }
   },
   "outputs": [],
   "source": [
    "#create np.array grid\n",
    "# replace color values with sensor names\n",
    "# 'R' signifies a road\n",
    "# '.' signifies empty space\n",
    "grid = [['.' for i in range(200)] for j in range(200)]\n",
    "\n",
    "for y in range(len(pixel_values)):\n",
    "    for x in range(len(pixel_values[y])):\n",
    "        if (pixel_values[x][y] == [0, 255, 255]).all():\n",
    "            grid[x][y] = 'general-gate'\n",
    "        elif (pixel_values[x][y] == [76, 255, 0]).all():\n",
    "            grid[x][y] = 'entrance'\n",
    "        elif (pixel_values[x][y] == [255, 216, 0]).all():\n",
    "            grid[x][y] = 'ranger-stop'\n",
    "        elif (pixel_values[x][y] == [255, 0, 0]).all():\n",
    "            grid[x][y] = 'gate'\n",
    "        elif (pixel_values[x][y] == [255, 0, 220]).all():\n",
    "            grid[x][y] = 'ranger-base'\n",
    "        elif (pixel_values[x][y] == [255, 106, 0]).all():\n",
    "            grid[x][y] = 'camping'\n",
    "        elif (pixel_values[x][y] == [255, 255, 255]).all():\n",
    "            grid[x][y] = 'R'\n",
    "        else:\n",
    "            continue"
   ]
  },
  {
   "cell_type": "code",
   "execution_count": 12,
   "metadata": {
    "pycharm": {
     "name": "#%%\n"
    }
   },
   "outputs": [],
   "source": [
    "#get just the coordinates of the sensors\n",
    "\n",
    "color_map = []\n",
    "for x in range(len(grid)):\n",
    "    for y in range(len(grid[x])):\n",
    "        if grid[x][y] == \".\":\n",
    "            continue\n",
    "        else:\n",
    "            color_map.append([grid[x][y], (y,x)])\n"
   ]
  },
  {
   "cell_type": "code",
   "execution_count": 13,
   "metadata": {
    "pycharm": {
     "name": "#%%\n"
    }
   },
   "outputs": [],
   "source": [
    "#Recursive function to find the shortest path along the roads\n",
    "\n",
    "def find_dist(start, end, count, checked = None ):\n",
    "    if checked is None:\n",
    "\t    checked = []\n",
    "    checked.append(start)\n",
    "\n",
    "    if start == end:\n",
    "        return count\n",
    "\n",
    "    else:\n",
    "        if (['R', (start[0] + 1, start[1])] in color_map and (start[0] + 1, start[1]) not in checked) or (end == (start[0] + 1, start[1])):\n",
    "            count += 1\n",
    "            res = find_dist((start[0] + 1, start[1]), end, count, checked)\n",
    "            if res is not None:\n",
    "                return res\n",
    "        if (['R', (start[0], start[1] + 1)] in color_map and (start[0], start[1] + 1) not in checked) or (end == (start[0], start[1] + 1)):\n",
    "            count += 1\n",
    "            res = find_dist((start[0], start[1] + 1), end, count, checked)\n",
    "            if res is not None:\n",
    "                return res\n",
    "        if (['R', (start[0] - 1, start[1])] in color_map and (start[0] - 1, start[1]) not in checked) or (end == (start[0] - 1, start[1])):\n",
    "            count += 1\n",
    "            res = find_dist((start[0] - 1, start[1]), end, count, checked)\n",
    "            if res is not None:\n",
    "                return res\n",
    "        if (['R', (start[0], start[1] - 1)] in color_map and (start[0], start[1] - 1) not in checked) or (end == (start[0], start[1] - 1)):\n",
    "            count += 1\n",
    "            res = find_dist((start[0], start[1] - 1), end, count, checked)\n",
    "            if res is not None:\n",
    "                return res"
   ]
  },
  {
   "cell_type": "code",
   "execution_count": 14,
   "metadata": {
    "pycharm": {
     "name": "#%%\n"
    }
   },
   "outputs": [],
   "source": [
    "#create graph of all sensors\n",
    "\n",
    "g = {\"entrance0\": {'general-gate1', 'gate0', 'general-gate4', 'general-gate7', 'gate7', 'gate6', 'entrance3'},\n",
    "     \"entrance1\": {'gate2', 'camping2', 'camping3', 'camping4', 'camping0', 'gate1', 'general-gate7'},\n",
    "     \"entrance2\": {'general-gate3', 'gate3', 'camping8', 'camping1', 'general-gate0', 'general-gate2', 'general-gate5', 'gate4', 'general-gate6', 'gate5', 'camping6', 'gate8', 'entrance4'},\n",
    "     \"entrance3\": {'gate6', 'gate7', 'general-gate7', 'general-gate4', 'gate0', 'general-gate1', 'entrance0'},\n",
    "     \"entrance4\": {'gate8', 'camping6', 'gate5', 'general-gate6', 'gate4', 'entrance2', 'general-gate3', 'general-gate5', 'gate3', 'camping8', 'camping1', 'general-gate0', 'general-gate2'},\n",
    "     \"gate0\": {'gate1', 'entrance0', 'general-gate1', 'general-gate4', 'gate6', 'entrance3', 'general-gate7', 'gate7'},\n",
    "     \"gate1\": {'camping0', 'gate0', 'camping3', 'camping4', 'entrance1', 'gate2', 'camping2', 'general-gate7'},\n",
    "     \"gate2\": {'ranger-stop1', 'camping2', 'entrance1', 'camping4', 'camping3', 'camping0', 'gate1', 'general-gate7'},\n",
    "     \"gate3\": {'ranger-stop3', 'camping8', 'camping1', 'general-gate0', 'general-gate2', 'general-gate5', 'general-gate3', 'entrance2', 'gate4', 'general-gate6', 'gate5', 'camping6', 'gate8', 'entrance4'},\n",
    "     \"gate4\": {'ranger-stop5', 'entrance2', 'general-gate3', 'general-gate5', 'gate3', 'camping8', 'camping1', 'general-gate0', 'general-gate2', 'general-gate6', 'gate5', 'camping6', 'gate8', 'entrance4'},\n",
    "     \"gate5\": {'ranger-stop6', 'camping6', 'gate8', 'entrance4', 'general-gate6', 'general-gate5', 'gate4', 'entrance2', 'general-gate3', 'camping8', 'gate3', 'camping1', 'general-gate0', 'general-gate0'},\n",
    "     \"gate6\": {'ranger-stop6', 'entrance3', 'entrance0', 'general-gate1', 'gate0', 'general-gate4', 'general-gate7', 'gate7'},\n",
    "     \"gate7\": {'ranger-stop7', 'general-gate7', 'general-gate4', 'gate6', 'entrance3', 'gate0', 'general-gate1', 'entrance0'},\n",
    "     \"gate8\": {'ranger-base', 'entrance4', 'camping6', 'gate5', 'general-gate6', 'general-gate5', 'gate4', 'entrance2', 'general-gate3', 'camping8', 'gate3', 'camping1', 'general-gate0', 'general-gate2'},\n",
    "     \"camping0\": {'gate1', 'camping3', 'camping4', 'entrance1', 'gate2', 'camping2', 'general-gate7'},\n",
    "     \"camping1\": {'general-gate0', 'general-gate2', 'general-gate5', 'gate3', 'camping8', 'general-gate3', 'entrance2', 'gate4', 'general-gate6', 'gate5', 'camping6', 'gate8', 'entrance4'},\n",
    "     \"camping2\": {'gate2', 'entrance1', 'camping4', 'camping3', 'camping0', 'gate1', 'general-gate7'},\n",
    "     \"camping3\": {'gate1', 'camping0', 'camping4', 'entrance1', 'gate2', 'camping2', 'general-gate7'},\n",
    "     \"camping4\": {'general-gate7', 'gate1', 'camping0', 'camping3', 'entrance1', 'gate2', 'camping2'},\n",
    "     \"camping5\": {'ranger-stop4', 'general-gate7'},\n",
    "     \"camping6\": {'entrance4', 'gate8', 'gate5', 'general-gate6', 'general-gate5', 'gate4', 'entrance2', 'general-gate3', 'gate3', 'camping8', 'camping1', 'general-gate0', 'general-gate2'},\n",
    "     \"camping7\": {'general-gate6'},\n",
    "     \"camping8\": {'general-gate3', 'gate3', 'camping1', 'general-gate0', 'general-gate2', 'general-gate5', 'entrance2', 'gate4', 'general-gate6', 'gate5', 'camping6', 'gate8', 'entrance4'},\n",
    "     \"general-gate0\": {'general-gate2', 'camping1', 'gate3', 'camping8', 'general-gate5', 'general-gate3', 'entrance2', 'gate4', 'general-gate6', 'gate5', 'camping6', 'gate8', 'entrance4'},\n",
    "     \"general-gate1\": {'entrance0', 'gate0', 'ranger-stop2', 'general-gate4', 'gate6', 'entrance3', 'general-gate7', 'gate7'},\n",
    "     \"general-gate2\": {'ranger-stop0', 'general-gate0', 'camping1', 'general-gate5', 'gate3', 'camping8', 'general-gate3', 'entrance2', 'gate4', 'general-gate6', 'gate5', 'camping6', 'gate8', 'entrance4'},\n",
    "     \"general-gate3\": {'camping8', 'entrance2', 'gate4', 'general-gate6', 'gate5', 'camping6', 'gate8', 'entrance4', 'general-gate5', 'gate3', 'camping1', 'general-gate0', 'general-gate2'},\n",
    "     \"general-gate4\": {'entrance0', 'general-gate1', 'gate0', 'gate6', 'entrance3', 'gate7', 'general-gate7'},\n",
    "     \"general-gate5\": {'gate5', 'camping6', 'gate8', 'entrance4', 'general-gate6', 'gate4', 'entrance2', 'general-gate3', 'camping8', 'gate3', 'camping1', 'general-gate0', 'general-gate2'},\n",
    "     \"general-gate6\": {'camping7', 'gate5', 'camping6', 'gate8', 'entrance4', 'general-gate5', 'gate4', 'entrance2', 'general-gate3', 'camping8', 'gate3', 'camping1', 'general-gate0', 'general-gate2'},\n",
    "     \"general-gate7\": {'camping5', 'ranger-stop4', 'gate7', 'general-gate4', 'gate6', 'entrance3', 'entrance1', 'gate2', 'camping2', 'camping4', 'camping3', 'camping0', 'gate1', 'gate0', 'general-gate1', 'entrance0'},\n",
    "     \"ranger-stop0\": {'ranger-stop2', 'general-gate2'},\n",
    "     \"ranger-stop1\": {'gate2'},\n",
    "     \"ranger-stop2\": {'ranger-stop0', 'general-gate1'},\n",
    "     \"ranger-stop3\": {'gate3'},\n",
    "     \"ranger-stop4\": {'camping5', 'general-gate7'},\n",
    "     \"ranger-stop5\": {'gate4'},\n",
    "     \"ranger-stop6\": {'gate5', 'gate6'},\n",
    "     \"ranger-stop7\": {'gate7'},\n",
    "     \"ranger-base\": {'gate8'},\n",
    "     }"
   ]
  },
  {
   "cell_type": "code",
   "execution_count": 15,
   "metadata": {
    "pycharm": {
     "name": "#%%\n"
    }
   },
   "outputs": [],
   "source": [
    "#Mapped all sensors to their coordinates\n",
    "\n",
    "sensor_coords = [('entrance0', (62, 186)),\n",
    "                 ('entrance1', (17, 132)),\n",
    "                 ('entrance2', (183, 112)),\n",
    "                 ('entrance3', (115, 32)),\n",
    "                 ('entrance4', (140, 15)),\n",
    "                 ('gate0', (63, 166)),\n",
    "                 ('gate1', (58, 155)),\n",
    "                 ('gate2', (24, 145)),\n",
    "                 ('gate3', (149, 139)),\n",
    "                 ('gate4', (164, 85)),\n",
    "                 ('gate5', (131, 53)),\n",
    "                 ('gate6', (116, 48)),\n",
    "                 ('gate7', (97, 39)),\n",
    "                 ('gate8', (138, 18)),\n",
    "                 ('camping0', (52, 158)),\n",
    "                 ('camping1', (129, 149)),\n",
    "                 ('camping2', (45, 131)),\n",
    "                 ('camping3', (44, 135)),\n",
    "                 ('camping4', (48, 110)),\n",
    "                 ('camping5', (20, 78)),\n",
    "                 ('camping6', (150, 22)),\n",
    "                 ('camping7', (181, 54)),\n",
    "                 ('camping8', (183, 151)),\n",
    "                 ('ranger-base', (128, 24)),\n",
    "                 ('ranger-stop0', (89, 183)),\n",
    "                 ('ranger-stop1', (19, 175)),\n",
    "                 ('ranger-stop2', (80, 164)),\n",
    "                 ('ranger-stop3', (148, 154)),\n",
    "                 ('ranger-stop4', (18, 104)),\n",
    "                 ('ranger-stop5', (151, 81)),\n",
    "                 ('ranger-stop6', (123, 52)),\n",
    "                 ('ranger-stop7', (100, 47)),\n",
    "                 ('general-gate0', (110, 190)),\n",
    "                 ('general-gate1', (64, 174)),\n",
    "                 ('general-gate2', (104, 167)),\n",
    "                 ('general-gate3', (186, 144)),\n",
    "                 ('general-gate4', (69, 101)),\n",
    "                 ('general-gate5', (124, 88)),\n",
    "                 ('general-gate6', (136, 62)),\n",
    "                 ('general-gate7', (65, 55))\n",
    "                 ]"
   ]
  },
  {
   "cell_type": "code",
   "execution_count": 16,
   "metadata": {
    "pycharm": {
     "name": "#%%\n"
    }
   },
   "outputs": [],
   "source": [
    "#create tuples for each connected pair of sensors\n",
    "#omit duplicates, regardless of direction\n",
    "\n",
    "pairs = []\n",
    "for key, values in g.items():\n",
    "    for v in values:\n",
    "        pairs.append((key, v))\n",
    "pairs = {*map(tuple, map(sorted, pairs))}\n"
   ]
  },
  {
   "cell_type": "code",
   "execution_count": 17,
   "metadata": {
    "pycharm": {
     "name": "#%%\n"
    }
   },
   "outputs": [],
   "source": [
    "#Find all distances between pairs\n",
    "dists = []\n",
    "for x in pairs:\n",
    "    start_coord = sensor_coords[[t[0] for t in sensor_coords].index(x[0])]\n",
    "    end_coord = sensor_coords[[t[0] for t in sensor_coords].index(x[1])]\n",
    "    dists.append([start_coord[0], end_coord[0], find_dist(start_coord[1], end_coord[1], 0)])"
   ]
  },
  {
   "cell_type": "code",
   "execution_count": 18,
   "outputs": [
    {
     "name": "stdout",
     "output_type": "stream",
     "text": [
      "['general-gate0', 'general-gate2', 12.3]\n",
      "['gate6', 'general-gate7', 8.04]\n",
      "['general-gate1', 'general-gate4', 13.86]\n",
      "['camping8', 'gate5', 24.18]\n",
      "['entrance3', 'general-gate7', 8.94]\n",
      "['gate6', 'general-gate4', 9.6]\n",
      "['general-gate4', 'general-gate7', 12.9]\n",
      "['camping6', 'general-gate0', 24.42]\n",
      "['gate5', 'general-gate5', 13.74]\n",
      "['camping0', 'general-gate7', 11.28]\n",
      "['entrance1', 'general-gate7', 8.04]\n",
      "['entrance4', 'general-gate6', 3.72]\n",
      "['general-gate3', 'general-gate5', 7.32]\n",
      "['camping6', 'entrance4', 1.5]\n",
      "['camping2', 'camping3', 9.78]\n",
      "['gate8', 'general-gate6', 3.66]\n",
      "['camping3', 'camping4', 7.38]\n",
      "['camping2', 'gate1', 4.62]\n",
      "['camping6', 'gate4', 7.74]\n",
      "['gate6', 'general-gate1', 11.46]\n",
      "['camping6', 'general-gate5', 16.86]\n",
      "['gate4', 'general-gate0', 16.98]\n",
      "['gate8', 'general-gate0', 24.12]\n",
      "['camping4', 'gate1', 5.1]\n",
      "['camping3', 'gate1', 12.06]\n",
      "['gate3', 'general-gate6', 20.76]\n",
      "['general-gate3', 'general-gate6', 14.22]\n",
      "['camping3', 'entrance1', 3.48]\n",
      "['gate5', 'general-gate0', 21.3]\n",
      "['gate3', 'general-gate2', 9.12]\n",
      "['gate3', 'gate5', 21.3]\n",
      "['camping6', 'general-gate6', 3.96]\n",
      "['camping0', 'camping2', 5.04]\n",
      "['camping8', 'general-gate3', 0.6]\n",
      "['general-gate1', 'general-gate7', 14.94]\n",
      "['camping8', 'entrance2', 13.08]\n",
      "['camping1', 'general-gate2', 8.22]\n",
      "['entrance2', 'general-gate2', 11.94]\n",
      "['camping1', 'camping8', 9.96]\n",
      "['general-gate0', 'general-gate3', 14.94]\n",
      "['gate0', 'gate7', 16.38]\n",
      "['camping1', 'gate5', 21.12]\n",
      "['camping0', 'camping4', 5.58]\n",
      "['entrance2', 'gate5', 12.48]\n",
      "['gate2', 'general-gate7', 9.0]\n",
      "['camping4', 'general-gate7', 6.06]\n",
      "['camping6', 'gate3', 20.46]\n",
      "['gate6', 'ranger-stop6', 0.66]\n",
      "['entrance4', 'general-gate2', 22.08]\n",
      "['gate4', 'general-gate6', 7.8]\n",
      "['entrance4', 'gate5', 3.06]\n",
      "['gate4', 'general-gate2', 14.88]\n",
      "['camping0', 'entrance1', 9.72]\n",
      "['gate0', 'gate1', 1.02]\n",
      "['gate8', 'general-gate2', 22.02]\n",
      "['camping1', 'camping6', 24.24]\n",
      "['entrance0', 'general-gate7', 15.6]\n",
      "['gate5', 'general-gate6', 0.84]\n",
      "['gate4', 'ranger-stop5', 1.08]\n",
      "['entrance0', 'general-gate4', 14.52]\n",
      "['gate5', 'general-gate2', 19.2]\n",
      "['camping8', 'gate8', 27.0]\n",
      "['general-gate2', 'general-gate3', 12.66]\n",
      "['camping2', 'gate2', 7.8]\n",
      "['gate6', 'gate7', 10.14]\n",
      "['gate3', 'general-gate3', 11.04]\n",
      "['entrance3', 'gate7', 11.04]\n",
      "['general-gate1', 'ranger-stop2', 1.56]\n",
      "['camping8', 'general-gate0', 14.1]\n",
      "['entrance0', 'gate0', 1.5]\n",
      "['ranger-stop0', 'ranger-stop2', 1.86]\n",
      "['camping4', 'gate2', 5.34]\n",
      "['general-gate2', 'general-gate5', 20.1]\n",
      "['camping3', 'gate2', 2.16]\n",
      "['gate7', 'general-gate4', 15.06]\n",
      "['entrance0', 'general-gate1', 0.9]\n",
      "['camping6', 'general-gate2', 22.32]\n",
      "['camping1', 'general-gate3', 10.86]\n",
      "['camping2', 'general-gate7', 8.52]\n",
      "['camping1', 'entrance2', 10.02]\n",
      "['entrance2', 'general-gate3', 3.6]\n",
      "['camping8', 'entrance4', 27.12]\n",
      "['general-gate7', 'ranger-stop4', 7.56]\n",
      "['camping6', 'gate5', 3.3]\n",
      "['gate0', 'general-gate4', 13.2]\n",
      "['camping8', 'gate4', 16.08]\n",
      "['gate8', 'ranger-base', 1.02]\n",
      "['camping8', 'general-gate5', 21.36]\n",
      "['camping3', 'general-gate7', 10.92]\n",
      "['camping1', 'gate4', 13.02]\n",
      "['camping0', 'camping3', 12.54]\n",
      "['general-gate0', 'general-gate5', 22.38]\n",
      "['entrance4', 'general-gate3', 13.74]\n",
      "['camping0', 'gate1', 0.54]\n",
      "['entrance1', 'gate1', 9.18]\n",
      "['entrance0', 'gate6', 12.18]\n",
      "['gate7', 'general-gate1', 16.92]\n",
      "['gate2', 'ranger-stop1', 3.06]\n",
      "['gate4', 'general-gate3', 6.54]\n",
      "['camping5', 'general-gate7', 6.0]\n",
      "['gate3', 'gate8', 24.12]\n",
      "['gate1', 'general-gate7', 10.98]\n",
      "['gate5', 'ranger-stop6', 0.6]\n",
      "['entrance4', 'gate4', 7.5]\n",
      "['gate4', 'gate5', 8.34]\n",
      "['gate8', 'general-gate3', 13.68]\n",
      "['general-gate5', 'general-gate6', 16.92]\n",
      "['gate0', 'general-gate1', 0.72]\n",
      "['camping8', 'general-gate6', 23.64]\n",
      "['gate5', 'general-gate3', 10.86]\n",
      "['general-gate0', 'general-gate6', 24.66]\n",
      "['gate3', 'ranger-stop3', 0.96]\n",
      "['camping1', 'gate8', 23.94]\n",
      "['entrance2', 'gate8', 15.3]\n",
      "['camping5', 'ranger-stop4', 2.22]\n",
      "['entrance0', 'entrance3', 13.08]\n",
      "['camping1', 'general-gate0', 4.44]\n",
      "['entrance3', 'general-gate4', 10.5]\n",
      "['entrance2', 'general-gate0', 14.04]\n",
      "['gate7', 'general-gate7', 4.56]\n",
      "['camping8', 'gate3', 3.18]\n",
      "['gate0', 'gate6', 10.86]\n",
      "['entrance4', 'gate8', 0.36]\n",
      "['camping2', 'camping4', 2.82]\n",
      "['camping1', 'gate3', 7.14]\n",
      "['gate3', 'gate4', 13.2]\n",
      "['entrance2', 'gate3', 10.08]\n",
      "['gate3', 'general-gate5', 18.48]\n",
      "['camping6', 'camping8', 23.28]\n",
      "['camping6', 'general-gate3', 13.98]\n",
      "['camping6', 'entrance2', 11.7]\n",
      "['gate0', 'general-gate7', 14.28]\n",
      "['camping1', 'entrance4', 24.06]\n",
      "['entrance2', 'entrance4', 15.42]\n",
      "['entrance4', 'general-gate0', 24.18]\n",
      "['gate4', 'gate8', 11.16]\n",
      "['entrance3', 'gate0', 11.88]\n",
      "['gate1', 'gate2', 10.26]\n",
      "['entrance4', 'gate3', 20.22]\n",
      "['entrance0', 'gate7', 17.7]\n",
      "['entrance2', 'gate4', 4.38]\n",
      "['camping1', 'general-gate5', 18.3]\n",
      "['entrance2', 'general-gate5', 6.48]\n",
      "['entrance3', 'general-gate1', 12.36]\n",
      "['camping2', 'entrance1', 6.96]\n",
      "['general-gate2', 'general-gate6', 22.38]\n",
      "['gate5', 'gate8', 3.0]\n",
      "['general-gate2', 'ranger-stop0', 2.04]\n",
      "['camping4', 'entrance1', 4.5]\n",
      "['gate7', 'ranger-stop7', 0.66]\n",
      "['entrance4', 'general-gate5', 16.62]\n",
      "['camping7', 'general-gate6', 5.16]\n",
      "['camping0', 'gate2', 10.56]\n",
      "['entrance1', 'gate2', 1.5]\n",
      "['gate3', 'general-gate0', 11.22]\n",
      "['entrance3', 'gate6', 1.08]\n",
      "['gate4', 'general-gate5', 9.42]\n",
      "['camping1', 'general-gate6', 20.58]\n",
      "['entrance2', 'general-gate6', 11.94]\n",
      "['camping8', 'general-gate2', 12.0]\n",
      "['camping6', 'gate8', 1.38]\n",
      "['gate8', 'general-gate5', 16.56]\n"
     ]
    }
   ],
   "source": [
    "#convert distances to miles\n",
    "#one pixel (ie one distance) is 0.06 miles\n",
    "\n",
    "for x in dists:\n",
    "    x[2] = round(x[2]*0.06, 2)\n",
    "    print(x)\n",
    "#print(dists)"
   ],
   "metadata": {
    "collapsed": false,
    "pycharm": {
     "name": "#%%\n"
    }
   }
  },
  {
   "cell_type": "code",
   "execution_count": 19,
   "metadata": {
    "pycharm": {
     "name": "#%%\n"
    }
   },
   "outputs": [],
   "source": [
    "#dictionary with car id and car type as key\n",
    "car_id_dict = defaultdict(list)\n",
    "for x in range(len(data['car-id'])):\n",
    "    car_id_dict[(data['car-id'][x], data['car-type'][x])].append((data['Timestamp'][x], data['gate-name'][x]))"
   ]
  },
  {
   "cell_type": "code",
   "execution_count": 20,
   "metadata": {
    "pycharm": {
     "name": "#%%\n"
    }
   },
   "outputs": [],
   "source": [
    "#sort car id dictionary by timestamp\n",
    "#this will show the 'path' of each car over time\n",
    "car_sorted = {x:sorted(car_id_dict[x]) for x in car_id_dict.keys()}"
   ]
  },
  {
   "cell_type": "code",
   "execution_count": 21,
   "outputs": [],
   "source": [
    "#get times between gates for each car\n",
    "car_times_bt_gates = defaultdict(list)\n",
    "for x in car_sorted.items():\n",
    "    for y in dists:\n",
    "        gate_times1 = [k for k, v in x[1] if v == y[0]]\n",
    "        gate_times2 = [k for k, v in x[1] if v == y[1]]\n",
    "        if gate_times1 and gate_times2:\n",
    "            car_times_bt_gates[x[0]].append([gate_times1, gate_times2, tuple(y)])\n",
    "        else:\n",
    "            continue\n"
   ],
   "metadata": {
    "collapsed": false,
    "pycharm": {
     "name": "#%%\n"
    }
   }
  },
  {
   "cell_type": "code",
   "execution_count": 22,
   "outputs": [],
   "source": [
    "#separate times by which pair of gates is being passed\n",
    "time_by_gate = defaultdict(list)\n",
    "for x in car_times_bt_gates.items():\n",
    "    for y in x[1]:\n",
    "        time_by_gate[(y[2], x[0][1])].append([y[0], y[1]])"
   ],
   "metadata": {
    "collapsed": false,
    "pycharm": {
     "name": "#%%\n"
    }
   }
  },
  {
   "cell_type": "code",
   "execution_count": 23,
   "outputs": [],
   "source": [
    "#for cases where cars passed through the same gates multiple times,\n",
    "#find the gates with the closest difference in time\n",
    "#to ensure the gates were visited back to back\n",
    "\n",
    "closest_times = defaultdict(list)\n",
    "for x in time_by_gate.items():\n",
    "    for y in x[1]:\n",
    "        closest = datetime.now() - datetime(2015, 1, 1, 1, 1, 1, 1)\n",
    "        diff = []\n",
    "        for z in y[0]:\n",
    "            temp = min(y[1], key=lambda t: abs(z-t))\n",
    "            diff.append(abs(z - temp))\n",
    "        closest_times[x[0]].append(min(diff))"
   ],
   "metadata": {
    "collapsed": false,
    "pycharm": {
     "name": "#%%\n"
    }
   }
  },
  {
   "cell_type": "code",
   "execution_count": 98,
   "outputs": [],
   "source": [
    "#calculate speeds\n",
    "speeds = defaultdict(list)\n",
    "for x in closest_times.items():\n",
    "    for y in x[1]:\n",
    "        speeds[x[0]].append(x[0][0][2]/(y.total_seconds()/3600))\n",
    "\n",
    "#assign values for plotting\n",
    "x_vals = []\n",
    "y_vals = []\n",
    "hues = []\n",
    "for x in speeds.items():\n",
    "    hues.append(x[0][0])\n",
    "    y_vals.append(sum(x[1])/len(x[1]))\n",
    "    x_vals.append(x[0][1])\n"
   ],
   "metadata": {
    "collapsed": false,
    "pycharm": {
     "name": "#%%\n"
    }
   }
  },
  {
   "cell_type": "code",
   "execution_count": 99,
   "outputs": [
    {
     "data": {
      "text/plain": "<Figure size 432x288 with 1 Axes>",
      "image/png": "[encoded data removed]"
     },
     "metadata": {},
     "output_type": "display_data"
    }
   ],
   "source": [
    "\n",
    "sns.lineplot(x=x_vals, y=y_vals)\n",
    "plt.show()"
   ],
   "metadata": {
    "collapsed": false,
    "pycharm": {
     "name": "#%%\n"
    }
   }
  },
  {
   "cell_type": "code",
   "execution_count": 26,
   "outputs": [],
   "source": [
    "#dictionary with timestamp as key\n",
    "time_dict = defaultdict(list)\n",
    "for x in range(len(data['car-id'])):\n",
    "    time_dict[data['Timestamp'][x]].append((data['car-id'][x], data['gate-name'][x], data['car-type'][x]))\n"
   ],
   "metadata": {
    "collapsed": false,
    "pycharm": {
     "name": "#%%\n"
    }
   }
  },
  {
   "cell_type": "code",
   "execution_count": 27,
   "outputs": [
    {
     "ename": "KeyboardInterrupt",
     "evalue": "",
     "output_type": "error",
     "traceback": [
      "\u001B[0;31m---------------------------------------------------------------------------\u001B[0m",
      "\u001B[0;31mKeyboardInterrupt\u001B[0m                         Traceback (most recent call last)",
      "\u001B[0;32m/var/folders/cr/vfq_sd4d21n4gk63s5b8v_dh0000gn/T/ipykernel_76478/1518500010.py\u001B[0m in \u001B[0;36m<module>\u001B[0;34m\u001B[0m\n\u001B[1;32m      2\u001B[0m \u001B[0mcar_type_dict\u001B[0m \u001B[0;34m=\u001B[0m \u001B[0mdefaultdict\u001B[0m\u001B[0;34m(\u001B[0m\u001B[0mlist\u001B[0m\u001B[0;34m)\u001B[0m\u001B[0;34m\u001B[0m\u001B[0;34m\u001B[0m\u001B[0m\n\u001B[1;32m      3\u001B[0m \u001B[0;32mfor\u001B[0m \u001B[0mx\u001B[0m \u001B[0;32min\u001B[0m \u001B[0mrange\u001B[0m\u001B[0;34m(\u001B[0m\u001B[0mlen\u001B[0m\u001B[0;34m(\u001B[0m\u001B[0mdata\u001B[0m\u001B[0;34m[\u001B[0m\u001B[0;34m'car-id'\u001B[0m\u001B[0;34m]\u001B[0m\u001B[0;34m)\u001B[0m\u001B[0;34m)\u001B[0m\u001B[0;34m:\u001B[0m\u001B[0;34m\u001B[0m\u001B[0;34m\u001B[0m\u001B[0m\n\u001B[0;32m----> 4\u001B[0;31m     \u001B[0mcar_type_dict\u001B[0m\u001B[0;34m[\u001B[0m\u001B[0mdata\u001B[0m\u001B[0;34m[\u001B[0m\u001B[0;34m'car-type'\u001B[0m\u001B[0;34m]\u001B[0m\u001B[0;34m[\u001B[0m\u001B[0mx\u001B[0m\u001B[0;34m]\u001B[0m\u001B[0;34m]\u001B[0m\u001B[0;34m.\u001B[0m\u001B[0mappend\u001B[0m\u001B[0;34m(\u001B[0m\u001B[0;34m(\u001B[0m\u001B[0mdata\u001B[0m\u001B[0;34m[\u001B[0m\u001B[0;34m'Timestamp'\u001B[0m\u001B[0;34m]\u001B[0m\u001B[0;34m[\u001B[0m\u001B[0mx\u001B[0m\u001B[0;34m]\u001B[0m\u001B[0;34m,\u001B[0m \u001B[0mdata\u001B[0m\u001B[0;34m[\u001B[0m\u001B[0;34m'gate-name'\u001B[0m\u001B[0;34m]\u001B[0m\u001B[0;34m[\u001B[0m\u001B[0mx\u001B[0m\u001B[0;34m]\u001B[0m\u001B[0;34m,\u001B[0m \u001B[0mdata\u001B[0m\u001B[0;34m[\u001B[0m\u001B[0;34m'car-id'\u001B[0m\u001B[0;34m]\u001B[0m\u001B[0;34m[\u001B[0m\u001B[0mx\u001B[0m\u001B[0;34m]\u001B[0m\u001B[0;34m)\u001B[0m\u001B[0;34m)\u001B[0m\u001B[0;34m\u001B[0m\u001B[0;34m\u001B[0m\u001B[0m\n\u001B[0m",
      "\u001B[0;31mKeyboardInterrupt\u001B[0m: "
     ]
    }
   ],
   "source": [
    "#dictionary with vehicle type as key\n",
    "car_type_dict = defaultdict(list)\n",
    "for x in range(len(data['car-id'])):\n",
    "    car_type_dict[data['car-type'][x]].append((data['Timestamp'][x], data['gate-name'][x], data['car-id'][x]))"
   ],
   "metadata": {
    "collapsed": false,
    "pycharm": {
     "name": "#%%\n"
    }
   }
  },
  {
   "cell_type": "code",
   "execution_count": null,
   "outputs": [],
   "source": [
    "#dictionary with sensor name as key\n",
    "gate_dict = defaultdict(list)\n",
    "for x in range(len(data['car-id'])):\n",
    "    gate_dict[data['gate-name'][x]].append((data['car-id'][x], data['Timestamp'][x], data['car-type'][x]))\n",
    "\n"
   ],
   "metadata": {
    "collapsed": false,
    "pycharm": {
     "name": "#%%\n"
    }
   }
  },
  {
   "cell_type": "code",
   "execution_count": null,
   "outputs": [],
   "source": [
    "# track individual cars\n",
    "print(\"Number of individual cars:\",len(data['car-id'].unique()))"
   ],
   "metadata": {
    "collapsed": false,
    "pycharm": {
     "name": "#%%\n"
    }
   }
  },
  {
   "cell_type": "code",
   "execution_count": null,
   "metadata": {
    "pycharm": {
     "name": "#%%\n"
    }
   },
   "outputs": [],
   "source": [
    "# separate out by months and weekdays to see trends\n",
    "data['month'] = [d.strftime('%b') for d in data.Timestamp]\n",
    "data['day'] = [calendar.day_name[int(d.weekday())] for d in data.Timestamp]\n",
    "data['days'] = [d.weekday() for d in data.Timestamp]\n",
    "data['hours'] = [d.hour for d in data.Timestamp]\n",
    "data['months'] = [d.month for d in data.Timestamp]\n",
    "data.head()\n",
    "data.head()"
   ]
  },
  {
   "cell_type": "code",
   "execution_count": null,
   "metadata": {
    "pycharm": {
     "name": "#%%\n"
    }
   },
   "outputs": [],
   "source": [
    "# visualize data overall\n",
    "sns.countplot(x=data.month, hue=data['car-type'])"
   ]
  },
  {
   "cell_type": "code",
   "execution_count": null,
   "metadata": {
    "pycharm": {
     "name": "#%%\n"
    }
   },
   "outputs": [],
   "source": [
    "# a heatmap attempt \n",
    "sns.heatmap(data.groupby(['month', 'days', 'car-type']).size()[:, np.newaxis])"
   ]
  },
  {
   "cell_type": "code",
   "execution_count": null,
   "metadata": {
    "pycharm": {
     "name": "#%%\n"
    }
   },
   "outputs": [],
   "source": [
    "# another heatmap attempt\n",
    "times = np.asarray(data.days).reshape(171477,1)\n",
    "sns.heatmap(times)"
   ]
  },
  {
   "cell_type": "code",
   "execution_count": null,
   "metadata": {
    "pycharm": {
     "name": "#%%\n"
    }
   },
   "outputs": [],
   "source": [
    "# this attempt did not work to separate out cars by type\n",
    "graph = data.set_index('day')\n",
    "print(graph.head())\n",
    "graph.groupby('day').count()['car-type'].plot(legend=True)"
   ]
  },
  {
   "cell_type": "code",
   "execution_count": null,
   "metadata": {
    "pycharm": {
     "name": "#%%\n"
    }
   },
   "outputs": [],
   "source": [
    "g = data.groupby('month')['car-type'].value_counts()\n",
    "g.head()\n",
    "g.plot(legend=True)"
   ]
  },
  {
   "cell_type": "code",
   "execution_count": null,
   "metadata": {
    "pycharm": {
     "name": "#%%\n"
    }
   },
   "outputs": [],
   "source": [
    "p = data.groupby(['month', 'car-type']).size()\n",
    "p.head()"
   ]
  },
  {
   "cell_type": "code",
   "execution_count": null,
   "metadata": {
    "pycharm": {
     "name": "#%%\n"
    }
   },
   "outputs": [],
   "source": [
    "p.unstack().plot(legend=True)"
   ]
  },
  {
   "cell_type": "code",
   "execution_count": null,
   "metadata": {
    "pycharm": {
     "name": "#%%\n"
    }
   },
   "outputs": [],
   "source": [
    "l = data.groupby(['days','car-type']).size()\n",
    "l.unstack().plot(legend=True)"
   ]
  },
  {
   "cell_type": "code",
   "execution_count": null,
   "metadata": {
    "pycharm": {
     "name": "#%%\n"
    }
   },
   "outputs": [],
   "source": [
    "m = data.groupby(['month','days','car-type']).size()\n",
    "m.unstack().plot(legend=True)"
   ]
  },
  {
   "cell_type": "code",
   "execution_count": null,
   "metadata": {
    "pycharm": {
     "name": "#%%\n"
    }
   },
   "outputs": [],
   "source": [
    "m = data.groupby(['gate-name','car-type']).size()\n",
    "m.unstack().plot(legend=True)"
   ]
  },
  {
   "cell_type": "code",
   "execution_count": null,
   "metadata": {
    "pycharm": {
     "name": "#%%\n"
    }
   },
   "outputs": [],
   "source": [
    "n = data.groupby(['hours', 'car-type']).size()\n",
    "n.unstack().plot(legend=True)"
   ]
  },
  {
   "cell_type": "code",
   "execution_count": null,
   "metadata": {
    "pycharm": {
     "name": "#%%\n"
    }
   },
   "outputs": [],
   "source": [
    "# another heatmap attempt. not having luck with not having duplicate indexes...???\n",
    "data[\"months2\"] = pd.Categorical(data[\"month\"], data.month.unique())\n",
    "data[\"days2\"] = pd.Categorical(data[\"days\"], data.days.unique())\n",
    "data[\"cars2\"] = pd.Categorical(data[\"car-type\"], data[\"car-type\"].unique())\n",
    "car_matrix = data.pivot(\"months2\",\"days\",\"car-type\")\n",
    "r = sns.heatmap (car_matrix, cmap='BuPu')"
   ]
  },
  {
   "cell_type": "code",
   "execution_count": null,
   "metadata": {
    "pycharm": {
     "name": "#%%\n"
    }
   },
   "outputs": [],
   "source": [
    "sns.heatmap(data.groupby(['month', 'days', 'car-type']).size()[:, np.newaxis])"
   ]
  },
  {
   "cell_type": "code",
   "execution_count": null,
   "metadata": {
    "pycharm": {
     "name": "#%%\n"
    }
   },
   "outputs": [],
   "source": [
    "times = np.asarray(data.days).reshape(171477,1)\n",
    "sns.heatmap(times)"
   ]
  },
  {
   "cell_type": "code",
   "execution_count": null,
   "metadata": {
    "pycharm": {
     "name": "#%%\n"
    }
   },
   "outputs": [],
   "source": [
    "sns.lineplot(x=data.day, y=data.groupby('car-type').count(),hue=data['car-type'])"
   ]
  },
  {
   "cell_type": "code",
   "execution_count": null,
   "metadata": {
    "pycharm": {
     "name": "#%%\n"
    }
   },
   "outputs": [],
   "source": [
    "graph = data.set_index('day')\n",
    "print(graph.head())\n",
    "graph.groupby('day').count()['car-type'].plot(legend=True)"
   ]
  },
  {
   "cell_type": "code",
   "execution_count": null,
   "metadata": {
    "pycharm": {
     "name": "#%%\n"
    }
   },
   "outputs": [],
   "source": [
    "g = data.groupby('month')['car-type'].value_counts()\n",
    "g.head()"
   ]
  },
  {
   "cell_type": "code",
   "execution_count": null,
   "metadata": {
    "pycharm": {
     "name": "#%%\n"
    }
   },
   "outputs": [],
   "source": [
    "g.plot(legend=True)"
   ]
  },
  {
   "cell_type": "code",
   "execution_count": null,
   "metadata": {
    "pycharm": {
     "name": "#%%\n"
    }
   },
   "outputs": [],
   "source": [
    "p = data.groupby(['month', 'car-type']).size()\n",
    "p.head()"
   ]
  },
  {
   "cell_type": "code",
   "execution_count": null,
   "metadata": {
    "pycharm": {
     "name": "#%%\n"
    }
   },
   "outputs": [],
   "source": [
    "p.unstack().plot(legend=True)"
   ]
  },
  {
   "cell_type": "code",
   "execution_count": null,
   "metadata": {
    "pycharm": {
     "name": "#%%\n"
    }
   },
   "outputs": [],
   "source": [
    "l = data.groupby(['days','car-type']).size()\n",
    "l.unstack().plot(legend=True)"
   ]
  },
  {
   "cell_type": "code",
   "execution_count": null,
   "metadata": {
    "pycharm": {
     "name": "#%%\n"
    }
   },
   "outputs": [],
   "source": [
    "m = data.groupby(['month','days','car-type']).size()\n",
    "m.unstack().plot(legend=True)"
   ]
  },
  {
   "cell_type": "code",
   "execution_count": null,
   "metadata": {
    "pycharm": {
     "name": "#%%\n"
    }
   },
   "outputs": [],
   "source": [
    "m = data.groupby(['gate-name','car-type']).size()\n",
    "m.unstack().plot(legend=True)"
   ]
  },
  {
   "cell_type": "code",
   "execution_count": null,
   "metadata": {
    "pycharm": {
     "name": "#%%\n"
    }
   },
   "outputs": [],
   "source": []
  },
  {
   "cell_type": "code",
   "execution_count": null,
   "metadata": {
    "pycharm": {
     "name": "#%%\n"
    }
   },
   "outputs": [],
   "source": [
    "#Unneeded code for now.\n",
    "#Keeping just in case.\n",
    "\n",
    "\n",
    "#create graph class\n",
    "\n",
    "# class Graph(object):\n",
    "#\n",
    "#     def __init__(self, graph_dict=None):\n",
    "#         if graph_dict == None:\n",
    "#             graph_dict = {}\n",
    "#         self._graph_dict = graph_dict\n",
    "#     def edges(self, vertex):\n",
    "#         return self._graph_dict[vertex]\n",
    "#     def all_vertices(self):\n",
    "#         return set(self._graph_dict.keys())\n",
    "#     def all_edges(self):\n",
    "#         return self._generate_edges()\n",
    "#     def add_vertex(self, vertex):\n",
    "#         if vertex not in self._graph_dict:\n",
    "#             self._graph_dict[vertex] = []\n",
    "#     def add_edge(self, edge):\n",
    "#         edge = set(edge)\n",
    "#         v1, v2 = tuple(edge)\n",
    "#         for x, y in [(v1, v2), (v2, v1)]:\n",
    "#             for x in self._graph_dict:\n",
    "#                 self._graph_dict[x].add(y)\n",
    "#             else:\n",
    "#                 self._graph_dict[x] = [y]\n",
    "#     def _generate_edges(self):\n",
    "#         edges = []\n",
    "#         for vertex in self._graph_dict:\n",
    "#             for neighbor in self._graph_dict[vertex]:\n",
    "#                 if {neighbor, vertex} not in edges:\n",
    "#                     edges.append({vertex, neighbor})\n",
    "#         return edges\n",
    "#     def __iter__(self):\n",
    "#         self._iter_obj = iter(self._graph_dict)\n",
    "#         return self._iter_obj\n",
    "#     def __next__(self):\n",
    "#         return next(self._iter_obj)\n",
    "#     def __str__(self):\n",
    "#         res = \"vertices: \"\n",
    "#         for k in self._graph_dict:\n",
    "#             res += str(k) + \" \"\n",
    "#         res += \"\\nedges: \"\n",
    "#         for edge in self._generate_edges():\n",
    "#             res += str(edge) + \" \"\n",
    "#         return res\n",
    "#\n",
    "#\n",
    "# g = Graph(g)"
   ]
  }
 ],
 "metadata": {
  "kernelspec": {
   "display_name": "Python 3 (ipykernel)",
   "language": "python",
   "name": "python3"
  },
  "language_info": {
   "codemirror_mode": {
    "name": "ipython",
    "version": 3
   },
   "file_extension": ".py",
   "mimetype": "text/x-python",
   "name": "python",
   "nbconvert_exporter": "python",
   "pygments_lexer": "ipython3",
   "version": "3.9.10"
  }
 },
 "nbformat": 4,
 "nbformat_minor": 1
}