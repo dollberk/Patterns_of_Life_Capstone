{
 "cells": [
  {
   "cell_type": "code",
   "execution_count": 363,
   "metadata": {},
   "outputs": [],
   "source": [
    "import collections\n",
    "import pandas as pd\n",
    "import numpy as np\n",
    "import seaborn as sns\n",
    "from PIL import Image\n",
    "import cv2\n",
    "import opencv_jupyter_ui\n",
    "import matplotlib.pyplot as plt\n",
    "from collections import defaultdict\n",
    "import calendar"
   ]
  },
  {
   "cell_type": "code",
   "execution_count": 364,
   "metadata": {
    "pycharm": {
     "name": "#%%\n"
    }
   },
   "outputs": [
    {
     "data": {
      "text/plain": "                  Timestamp              car-id car-type      gate-name\n0       2015-05-01 00:43:28  20154301124328-262        4      entrance3\n1       2015-05-01 01:03:48  20154301124328-262        4  general-gate1\n2       2015-05-01 01:06:24  20154301124328-262        4   ranger-stop2\n3       2015-05-01 01:09:25  20154301124328-262        4   ranger-stop0\n4       2015-05-01 01:12:36  20154301124328-262        4  general-gate2\n...                     ...                 ...      ...            ...\n171472  2016-05-31 23:40:13  20161031111001-854        6   ranger-stop2\n171473  2016-05-31 23:42:08  20165831105856-579        1  general-gate4\n171474  2016-05-31 23:43:13  20161031111001-854        6  general-gate1\n171475  2016-05-31 23:49:45  20165831105856-579        1  general-gate7\n171476  2016-05-31 23:56:06  20161031111001-854        6  general-gate4\n\n[171477 rows x 4 columns]",
      "text/html": "<div>\n<style scoped>\n    .dataframe tbody tr th:only-of-type {\n        vertical-align: middle;\n    }\n\n    .dataframe tbody tr th {\n        vertical-align: top;\n    }\n\n    .dataframe thead th {\n        text-align: right;\n    }\n</style>\n<table border=\"1\" class=\"dataframe\">\n  <thead>\n    <tr style=\"text-align: right;\">\n      <th></th>\n      <th>Timestamp</th>\n      <th>car-id</th>\n      <th>car-type</th>\n      <th>gate-name</th>\n    </tr>\n  </thead>\n  <tbody>\n    <tr>\n      <th>0</th>\n      <td>2015-05-01 00:43:28</td>\n      <td>20154301124328-262</td>\n      <td>4</td>\n      <td>entrance3</td>\n    </tr>\n    <tr>\n      <th>1</th>\n      <td>2015-05-01 01:03:48</td>\n      <td>20154301124328-262</td>\n      <td>4</td>\n      <td>general-gate1</td>\n    </tr>\n    <tr>\n      <th>2</th>\n      <td>2015-05-01 01:06:24</td>\n      <td>20154301124328-262</td>\n      <td>4</td>\n      <td>ranger-stop2</td>\n    </tr>\n    <tr>\n      <th>3</th>\n      <td>2015-05-01 01:09:25</td>\n      <td>20154301124328-262</td>\n      <td>4</td>\n      <td>ranger-stop0</td>\n    </tr>\n    <tr>\n      <th>4</th>\n      <td>2015-05-01 01:12:36</td>\n      <td>20154301124328-262</td>\n      <td>4</td>\n      <td>general-gate2</td>\n    </tr>\n    <tr>\n      <th>...</th>\n      <td>...</td>\n      <td>...</td>\n      <td>...</td>\n      <td>...</td>\n    </tr>\n    <tr>\n      <th>171472</th>\n      <td>2016-05-31 23:40:13</td>\n      <td>20161031111001-854</td>\n      <td>6</td>\n      <td>ranger-stop2</td>\n    </tr>\n    <tr>\n      <th>171473</th>\n      <td>2016-05-31 23:42:08</td>\n      <td>20165831105856-579</td>\n      <td>1</td>\n      <td>general-gate4</td>\n    </tr>\n    <tr>\n      <th>171474</th>\n      <td>2016-05-31 23:43:13</td>\n      <td>20161031111001-854</td>\n      <td>6</td>\n      <td>general-gate1</td>\n    </tr>\n    <tr>\n      <th>171475</th>\n      <td>2016-05-31 23:49:45</td>\n      <td>20165831105856-579</td>\n      <td>1</td>\n      <td>general-gate7</td>\n    </tr>\n    <tr>\n      <th>171476</th>\n      <td>2016-05-31 23:56:06</td>\n      <td>20161031111001-854</td>\n      <td>6</td>\n      <td>general-gate4</td>\n    </tr>\n  </tbody>\n</table>\n<p>171477 rows × 4 columns</p>\n</div>"
     },
     "execution_count": 364,
     "metadata": {},
     "output_type": "execute_result"
    }
   ],
   "source": [
    "#Read in the data\n",
    "data = pd.read_csv(\"Lekagul Sensor Data.csv\")\n",
    "data"
   ]
  },
  {
   "cell_type": "code",
   "execution_count": 365,
   "metadata": {
    "pycharm": {
     "name": "#%%\n"
    }
   },
   "outputs": [
    {
     "data": {
      "text/plain": "Timestamp    object\ncar-id       object\ncar-type     object\ngate-name    object\ndtype: object"
     },
     "execution_count": 365,
     "metadata": {},
     "output_type": "execute_result"
    }
   ],
   "source": [
    "#Check each column's data type\n",
    "data.dtypes"
   ]
  },
  {
   "cell_type": "code",
   "execution_count": 366,
   "metadata": {
    "pycharm": {
     "name": "#%%\n"
    }
   },
   "outputs": [
    {
     "data": {
      "text/plain": "Timestamp    0\ncar-id       0\ncar-type     0\ngate-name    0\ndtype: int64"
     },
     "execution_count": 366,
     "metadata": {},
     "output_type": "execute_result"
    }
   ],
   "source": [
    "#Check for nulls\n",
    "data.isna().sum()"
   ]
  },
  {
   "cell_type": "code",
   "execution_count": 367,
   "metadata": {
    "pycharm": {
     "name": "#%%\n"
    }
   },
   "outputs": [
    {
     "data": {
      "text/plain": "                 Timestamp              car-id car-type      gate-name\n0      2015-05-01 00:43:28  20154301124328-262        4      entrance3\n1      2015-05-01 01:03:48  20154301124328-262        4  general-gate1\n2      2015-05-01 01:06:24  20154301124328-262        4   ranger-stop2\n3      2015-05-01 01:09:25  20154301124328-262        4   ranger-stop0\n4      2015-05-01 01:12:36  20154301124328-262        4  general-gate2\n...                    ...                 ...      ...            ...\n171472 2016-05-31 23:40:13  20161031111001-854        6   ranger-stop2\n171473 2016-05-31 23:42:08  20165831105856-579        1  general-gate4\n171474 2016-05-31 23:43:13  20161031111001-854        6  general-gate1\n171475 2016-05-31 23:49:45  20165831105856-579        1  general-gate7\n171476 2016-05-31 23:56:06  20161031111001-854        6  general-gate4\n\n[171477 rows x 4 columns]",
      "text/html": "<div>\n<style scoped>\n    .dataframe tbody tr th:only-of-type {\n        vertical-align: middle;\n    }\n\n    .dataframe tbody tr th {\n        vertical-align: top;\n    }\n\n    .dataframe thead th {\n        text-align: right;\n    }\n</style>\n<table border=\"1\" class=\"dataframe\">\n  <thead>\n    <tr style=\"text-align: right;\">\n      <th></th>\n      <th>Timestamp</th>\n      <th>car-id</th>\n      <th>car-type</th>\n      <th>gate-name</th>\n    </tr>\n  </thead>\n  <tbody>\n    <tr>\n      <th>0</th>\n      <td>2015-05-01 00:43:28</td>\n      <td>20154301124328-262</td>\n      <td>4</td>\n      <td>entrance3</td>\n    </tr>\n    <tr>\n      <th>1</th>\n      <td>2015-05-01 01:03:48</td>\n      <td>20154301124328-262</td>\n      <td>4</td>\n      <td>general-gate1</td>\n    </tr>\n    <tr>\n      <th>2</th>\n      <td>2015-05-01 01:06:24</td>\n      <td>20154301124328-262</td>\n      <td>4</td>\n      <td>ranger-stop2</td>\n    </tr>\n    <tr>\n      <th>3</th>\n      <td>2015-05-01 01:09:25</td>\n      <td>20154301124328-262</td>\n      <td>4</td>\n      <td>ranger-stop0</td>\n    </tr>\n    <tr>\n      <th>4</th>\n      <td>2015-05-01 01:12:36</td>\n      <td>20154301124328-262</td>\n      <td>4</td>\n      <td>general-gate2</td>\n    </tr>\n    <tr>\n      <th>...</th>\n      <td>...</td>\n      <td>...</td>\n      <td>...</td>\n      <td>...</td>\n    </tr>\n    <tr>\n      <th>171472</th>\n      <td>2016-05-31 23:40:13</td>\n      <td>20161031111001-854</td>\n      <td>6</td>\n      <td>ranger-stop2</td>\n    </tr>\n    <tr>\n      <th>171473</th>\n      <td>2016-05-31 23:42:08</td>\n      <td>20165831105856-579</td>\n      <td>1</td>\n      <td>general-gate4</td>\n    </tr>\n    <tr>\n      <th>171474</th>\n      <td>2016-05-31 23:43:13</td>\n      <td>20161031111001-854</td>\n      <td>6</td>\n      <td>general-gate1</td>\n    </tr>\n    <tr>\n      <th>171475</th>\n      <td>2016-05-31 23:49:45</td>\n      <td>20165831105856-579</td>\n      <td>1</td>\n      <td>general-gate7</td>\n    </tr>\n    <tr>\n      <th>171476</th>\n      <td>2016-05-31 23:56:06</td>\n      <td>20161031111001-854</td>\n      <td>6</td>\n      <td>general-gate4</td>\n    </tr>\n  </tbody>\n</table>\n<p>171477 rows × 4 columns</p>\n</div>"
     },
     "execution_count": 367,
     "metadata": {},
     "output_type": "execute_result"
    }
   ],
   "source": [
    "#Change variables to appropriate type\n",
    "data['Timestamp'] = pd.to_datetime(data['Timestamp'])\n",
    "data['car-type'] = data['car-type'].astype('category')\n",
    "data['gate-name'] = data['gate-name'].astype('category')\n",
    "data"
   ]
  },
  {
   "cell_type": "code",
   "execution_count": 368,
   "metadata": {
    "pycharm": {
     "name": "#%%\n"
    }
   },
   "outputs": [
    {
     "data": {
      "text/plain": "Timestamp    datetime64[ns]\ncar-id               object\ncar-type           category\ngate-name          category\ndtype: object"
     },
     "execution_count": 368,
     "metadata": {},
     "output_type": "execute_result"
    }
   ],
   "source": [
    "#Check each column's data type again\n",
    "data.dtypes"
   ]
  },
  {
   "cell_type": "code",
   "execution_count": 369,
   "metadata": {
    "pycharm": {
     "name": "#%%\n"
    }
   },
   "outputs": [
    {
     "name": "stderr",
     "output_type": "stream",
     "text": [
      "/var/folders/cr/vfq_sd4d21n4gk63s5b8v_dh0000gn/T/ipykernel_13570/1434461059.py:2: FutureWarning: Treating datetime data as categorical rather than numeric in `.describe` is deprecated and will be removed in a future version of pandas. Specify `datetime_is_numeric=True` to silence this warning and adopt the future behavior now.\n",
      "  data.describe()\n"
     ]
    },
    {
     "data": {
      "text/plain": "                  Timestamp              car-id car-type      gate-name\ncount                171477              171477   171477         171477\nunique               170298               18708        7             40\ntop     2015-07-31 12:00:02  20154519024544-322        1  general-gate7\nfreq                      5                 281    67698          16119\nfirst   2015-05-01 00:43:28                 NaN      NaN            NaN\nlast    2016-05-31 23:56:06                 NaN      NaN            NaN",
      "text/html": "<div>\n<style scoped>\n    .dataframe tbody tr th:only-of-type {\n        vertical-align: middle;\n    }\n\n    .dataframe tbody tr th {\n        vertical-align: top;\n    }\n\n    .dataframe thead th {\n        text-align: right;\n    }\n</style>\n<table border=\"1\" class=\"dataframe\">\n  <thead>\n    <tr style=\"text-align: right;\">\n      <th></th>\n      <th>Timestamp</th>\n      <th>car-id</th>\n      <th>car-type</th>\n      <th>gate-name</th>\n    </tr>\n  </thead>\n  <tbody>\n    <tr>\n      <th>count</th>\n      <td>171477</td>\n      <td>171477</td>\n      <td>171477</td>\n      <td>171477</td>\n    </tr>\n    <tr>\n      <th>unique</th>\n      <td>170298</td>\n      <td>18708</td>\n      <td>7</td>\n      <td>40</td>\n    </tr>\n    <tr>\n      <th>top</th>\n      <td>2015-07-31 12:00:02</td>\n      <td>20154519024544-322</td>\n      <td>1</td>\n      <td>general-gate7</td>\n    </tr>\n    <tr>\n      <th>freq</th>\n      <td>5</td>\n      <td>281</td>\n      <td>67698</td>\n      <td>16119</td>\n    </tr>\n    <tr>\n      <th>first</th>\n      <td>2015-05-01 00:43:28</td>\n      <td>NaN</td>\n      <td>NaN</td>\n      <td>NaN</td>\n    </tr>\n    <tr>\n      <th>last</th>\n      <td>2016-05-31 23:56:06</td>\n      <td>NaN</td>\n      <td>NaN</td>\n      <td>NaN</td>\n    </tr>\n  </tbody>\n</table>\n</div>"
     },
     "execution_count": 369,
     "metadata": {},
     "output_type": "execute_result"
    }
   ],
   "source": [
    "#Describe the statistics of the base data\n",
    "data.describe()"
   ]
  },
  {
   "cell_type": "code",
   "execution_count": 370,
   "metadata": {
    "pycharm": {
     "name": "#%%\n"
    }
   },
   "outputs": [
    {
     "data": {
      "text/plain": "array([[<AxesSubplot:title={'center':'Timestamp'}>]], dtype=object)"
     },
     "execution_count": 370,
     "metadata": {},
     "output_type": "execute_result"
    },
    {
     "data": {
      "text/plain": "<Figure size 1080x720 with 1 Axes>",
      "image/png": "[encoded data removed]"
     },
     "metadata": {
      "needs_background": "light"
     },
     "output_type": "display_data"
    }
   ],
   "source": [
    "#Visualize distribution of each column & outliers\n",
    "data.hist(bins=1000, figsize=(15, 10))"
   ]
  },
  {
   "cell_type": "code",
   "execution_count": 371,
   "metadata": {
    "pycharm": {
     "name": "#%%\n"
    }
   },
   "outputs": [
    {
     "name": "stdout",
     "output_type": "stream",
     "text": [
      "[[[0 0 0]\n",
      "  [0 0 0]\n",
      "  [0 0 0]\n",
      "  ...\n",
      "  [0 0 0]\n",
      "  [0 0 0]\n",
      "  [0 0 0]]\n",
      "\n",
      " [[0 0 0]\n",
      "  [0 0 0]\n",
      "  [0 0 0]\n",
      "  ...\n",
      "  [0 0 0]\n",
      "  [0 0 0]\n",
      "  [0 0 0]]\n",
      "\n",
      " [[0 0 0]\n",
      "  [0 0 0]\n",
      "  [0 0 0]\n",
      "  ...\n",
      "  [0 0 0]\n",
      "  [0 0 0]\n",
      "  [0 0 0]]\n",
      "\n",
      " ...\n",
      "\n",
      " [[0 0 0]\n",
      "  [0 0 0]\n",
      "  [0 0 0]\n",
      "  ...\n",
      "  [0 0 0]\n",
      "  [0 0 0]\n",
      "  [0 0 0]]\n",
      "\n",
      " [[0 0 0]\n",
      "  [0 0 0]\n",
      "  [0 0 0]\n",
      "  ...\n",
      "  [0 0 0]\n",
      "  [0 0 0]\n",
      "  [0 0 0]]\n",
      "\n",
      " [[0 0 0]\n",
      "  [0 0 0]\n",
      "  [0 0 0]\n",
      "  ...\n",
      "  [0 0 0]\n",
      "  [0 0 0]\n",
      "  [0 0 0]]]\n"
     ]
    },
    {
     "data": {
      "text/plain": "<Figure size 432x288 with 1 Axes>",
      "image/png": "[encoded data removed]"
     },
     "metadata": {
      "needs_background": "light"
     },
     "output_type": "display_data"
    },
    {
     "data": {
      "text/plain": "<Figure size 432x288 with 1 Axes>",
      "image/png": "[encoded data removed]"
     },
     "metadata": {
      "needs_background": "light"
     },
     "output_type": "display_data"
    },
    {
     "data": {
      "text/plain": "(<matplotlib.image.AxesImage at 0x132cabfd0>, None, None)"
     },
     "execution_count": 371,
     "metadata": {},
     "output_type": "execute_result"
    }
   ],
   "source": [
    "#load in bmp\n",
    "img = cv2.imread('Lekagul Roadways.bmp')\n",
    "flip = img[::-1,:,:]\n",
    "#bmp = img.convert(mode=\"RGB\")\n",
    "pixel_values = flip[:,:,::-1]\n",
    "print(pixel_values)\n",
    "plt.imshow(flip[:,:,::-1],vmin=0,vmax=255), plt.show()\n",
    "plt.imshow(flip[:,:,::-1]), plt.gca().invert_yaxis(), plt.show()"
   ]
  },
  {
   "cell_type": "code",
   "execution_count": 372,
   "metadata": {
    "pycharm": {
     "name": "#%%\n"
    }
   },
   "outputs": [],
   "source": [
    "#color names\n",
    "# (0, 0, 0), black\n",
    "#  (0, 255, 255), cyan\n",
    "#  (1, 1, 1), black\n",
    "#  (2, 2, 2), black\n",
    "#  (3, 3, 3), black\n",
    "#  (5, 5, 5), black\n",
    "#  (6, 6, 6), black\n",
    "#  (8, 8, 8), black\n",
    "#  (9, 9, 9), black\n",
    "#  (14, 14, 14), black\n",
    "#  (16, 16, 16),black\n",
    "#  (17, 17, 17),black\n",
    "#  (18, 18, 18),black\n",
    "#  (19, 19, 19),black\n",
    "#  (20, 20, 20),black\n",
    "#  (21, 21, 21),black\n",
    "#  (22, 22, 22),black\n",
    "#  (23, 23, 23),black\n",
    "#  (24, 24, 24),black\n",
    "#  (25, 25, 25),black\n",
    "#  (31, 31, 31),black\n",
    "#  (46, 46, 46),black\n",
    "#  (64, 64, 64),black\n",
    "#  (65, 65, 65),black\n",
    "#  (66, 66, 66),black\n",
    "#  (67, 67, 67),black\n",
    "#  (68, 68, 68),black\n",
    "#  (70, 70, 70),black\n",
    "#  (72, 72, 72),black\n",
    "#  (76, 255, 0),green\n",
    "#  (239, 239, 239),yellow\n",
    "#  (255, 0, 0),red\n",
    "#  (255, 0, 220),pink\n",
    "#  (255, 106, 0),orange\n",
    "#  (255, 216, 0),orange\n",
    "#  (255, 255, 255),white"
   ]
  },
  {
   "cell_type": "code",
   "execution_count": 373,
   "metadata": {
    "pycharm": {
     "name": "#%%\n"
    }
   },
   "outputs": [],
   "source": [
    "#create np.array grid\n",
    "# replace color values with sensor names\n",
    "# 'R' signifies a road\n",
    "# '.' signifies empty space\n",
    "grid = [['.' for i in range(200)] for j in range(200)]\n",
    "\n",
    "for y in range(len(pixel_values)):\n",
    "    for x in range(len(pixel_values[y])):\n",
    "        if (pixel_values[x][y] == [0, 255, 255]).all():\n",
    "            grid[x][y] = 'General_Gate'\n",
    "        elif (pixel_values[x][y] == [76, 255, 0]).all():\n",
    "            grid[x][y] = 'Entrance'\n",
    "        elif ((pixel_values[x][y] == [255, 216, 0]).all()):\n",
    "            grid[x][y] = 'Ranger_Stop'\n",
    "        elif (pixel_values[x][y] == [255, 0, 0]).all():\n",
    "            grid[x][y] = 'Gate'\n",
    "        elif (pixel_values[x][y] == [255, 0, 220]).all():\n",
    "            grid[x][y] = 'Ranger_Base'\n",
    "        elif (pixel_values[x][y] == [255, 106, 0]).all():\n",
    "            grid[x][y] = 'Camping'\n",
    "        elif (pixel_values[x][y] == [255, 255, 255]).all():\n",
    "            grid[x][y] = 'R'\n",
    "        else:\n",
    "            continue\n",
    "\n",
    "print(grid)"
   ]
  },
  {
   "cell_type": "code",
   "execution_count": 374,
   "metadata": {
    "pycharm": {
     "name": "#%%\n"
    }
   },
   "outputs": [],
   "source": [
    "#get just the coordinates of the sensors\n",
    "\n",
    "color_map = []\n",
    "for x in range(len(grid)):\n",
    "    for y in range(len(grid[x])):\n",
    "        if grid[x][y] == \".\":\n",
    "            continue\n",
    "        else:\n",
    "            color_map.append([grid[x][y], (y,x)])\n",
    "\n",
    "print(color_map)"
   ]
  },
  {
   "cell_type": "code",
   "execution_count": 375,
   "metadata": {
    "pycharm": {
     "name": "#%%\n"
    }
   },
   "outputs": [],
   "source": [
    "#Still having issues with x,y axis\n",
    "# Flipped coordinates for color mapping in grid\n",
    "sensors_dict = defaultdict(list)\n",
    "for x in color_map:\n",
    "    if x[0] == 'R':\n",
    "        continue\n",
    "    else:\n",
    "        sensors_dict[x[0]].append(x[1])\n",
    "\n",
    "#'Entrance':\n",
    "#   (140, 15) 4\n",
    "#   (115, 32) 3\n",
    "#   (183, 112) 2\n",
    "#   (17, 132) 1\n",
    "#   (62, 186) 0\n",
    "#'Gate':\n",
    "#   (138, 18) 8\n",
    "#   (97, 39) 7\n",
    "#   (116, 48) 6\n",
    "#   (131, 53) 5\n",
    "#   (164, 85) 4\n",
    "#   (149, 139) 3\n",
    "#   (24, 145) 2\n",
    "#   (58, 155) 1\n",
    "#   (63, 166) 0\n",
    "#'Camping':\n",
    "#   (150, 22) 6\n",
    "#   (181, 54) 7\n",
    "#   (20, 78) 5\n",
    "#   (48, 110) 4\n",
    "#   (45, 131) 2\n",
    "#   (44, 135) 3\n",
    "#   (129, 149) 1\n",
    "#   (183, 151) 8\n",
    "#   (52, 158) 0\n",
    "#'Ranger_Base':\n",
    "#   (128, 24)\n",
    "#'Ranger_Stop':\n",
    "#   (100, 47) 7\n",
    "#   (123, 52) 6\n",
    "#   (151, 81) 5\n",
    "#   (18, 104) 4\n",
    "#   (148, 154) 3\n",
    "#   (80, 164) 2\n",
    "#   (19, 175) 1\n",
    "#   (89, 183) 0\n",
    "#'General_Gate':\n",
    "#   (65, 55) 7\n",
    "#   (136, 62) 6\n",
    "#   (124, 88) 5\n",
    "#   (69, 101) 4\n",
    "#   (186, 144) 3\n",
    "#   (104, 167) 2\n",
    "#   (64, 174) 1\n",
    "#   (110, 190) 0"
   ]
  },
  {
   "cell_type": "code",
   "execution_count": 376,
   "metadata": {
    "pycharm": {
     "name": "#%%\n"
    }
   },
   "outputs": [],
   "source": [
    "#dictionary with car id and car type as key\n",
    "car_id_dict = defaultdict(list)\n",
    "for x in range(len(data['car-id'])):\n",
    "    car_id_dict[(data['car-id'][x], data['car-type'][x])].append((data['Timestamp'][x], data['gate-name'][x]))"
   ]
  },
  {
   "cell_type": "code",
   "execution_count": 377,
   "outputs": [
    {
     "name": "stdout",
     "output_type": "stream",
     "text": [
      "          1      2     2P      3      4      5     6\n",
      "2     487.0  408.0    NaN  241.0  227.0  146.0  77.0\n",
      "3     225.0  180.0    NaN  104.0  134.0   86.0  36.0\n",
      "4     393.0  294.0    NaN  184.0  129.0   84.0  52.0\n",
      "5     218.0  101.0    NaN   68.0    NaN    NaN   NaN\n",
      "6    1145.0  719.0    6.0  457.0  244.0  168.0  87.0\n",
      "7     780.0  584.0    NaN  332.0  243.0  165.0  71.0\n",
      "8     335.0  258.0   25.0  164.0  135.0   76.0  47.0\n",
      "9     732.0  502.0    NaN  299.0  106.0   92.0  36.0\n",
      "10    154.0   66.0   29.0   68.0    2.0    NaN   NaN\n",
      "11    922.0  469.0    NaN  335.0    1.0    NaN   NaN\n",
      "12    744.0  439.0   14.0  288.0    NaN    NaN   NaN\n",
      "13    266.0  165.0    2.0  113.0    NaN    NaN   NaN\n",
      "14    269.0  113.0   58.0  112.0   23.0    NaN   NaN\n",
      "15      1.0    2.0    9.0    NaN    NaN    NaN   NaN\n",
      "16    354.0  165.0   26.0  129.0    NaN    NaN   NaN\n",
      "17    243.0  134.0    7.0   70.0    NaN    NaN   NaN\n",
      "18    199.0  107.0   34.0   66.0    NaN    NaN   NaN\n",
      "19      1.0    2.0  230.0    1.0    NaN    NaN   NaN\n",
      "20     12.0    6.0  168.0    6.0    NaN    NaN   NaN\n",
      "21      NaN    NaN   15.0    NaN    NaN    NaN   NaN\n",
      "22      NaN    NaN   97.0    NaN    NaN    NaN   NaN\n",
      "23      NaN    NaN   20.0    NaN    NaN    NaN   NaN\n",
      "24      1.0    1.0   22.0    1.0    NaN    NaN   NaN\n",
      "25      2.0    NaN   16.0    1.0    NaN    NaN   NaN\n",
      "26      1.0    NaN   23.0    NaN    NaN    NaN   NaN\n",
      "27      NaN    1.0    6.0    NaN    NaN    NaN   NaN\n",
      "28      NaN    NaN   15.0    NaN    NaN    NaN   NaN\n",
      "29      NaN    NaN    6.0    NaN    NaN    NaN   NaN\n",
      "30      NaN    NaN    7.0    NaN    NaN    NaN   NaN\n",
      "31      NaN    NaN    4.0    NaN    NaN    NaN   NaN\n",
      "32      NaN    NaN    6.0    NaN    NaN    NaN   NaN\n",
      "33      NaN    NaN    4.0    NaN    NaN    NaN   NaN\n",
      "34      NaN    NaN    4.0    NaN    NaN    NaN   NaN\n",
      "35      NaN    NaN    3.0    NaN    NaN    NaN   NaN\n",
      "36      1.0    NaN    2.0    NaN    NaN    NaN   NaN\n",
      "38      NaN    NaN    1.0    NaN    NaN    NaN   NaN\n",
      "49      NaN    NaN  139.0    NaN    NaN    NaN   NaN\n",
      "70      1.0    NaN    NaN    NaN    NaN    NaN   NaN\n",
      "98      1.0    NaN    NaN    NaN    NaN    NaN   NaN\n",
      "281     NaN    1.0    NaN    NaN    NaN    NaN   NaN\n"
     ]
    },
    {
     "data": {
      "text/plain": "<Figure size 3600x2520 with 0 Axes>"
     },
     "metadata": {},
     "output_type": "display_data"
    },
    {
     "data": {
      "text/plain": "<Figure size 432x288 with 1 Axes>",
      "image/png": "[encoded data removed]"
     },
     "metadata": {
      "needs_background": "light"
     },
     "output_type": "display_data"
    }
   ],
   "source": [
    "#Graph number of stops per type of vehicle\n",
    "\n",
    "car_keys = list(car_id_dict.keys())\n",
    "car_count = list(map(len, car_id_dict.values()))\n",
    "group_car_dict = defaultdict(list)\n",
    "for x in range(len(car_count)):\n",
    "    group_car_dict[car_count[x]].append(car_keys[x][1])\n",
    "for x in group_car_dict:\n",
    "    group_car_dict[x] = collections.Counter(group_car_dict[x])\n",
    "group_car_df = pd.DataFrame(group_car_dict).T.sort_index()\n",
    "group_car_df = group_car_df.reindex(sorted(group_car_df.columns), axis=1)\n",
    "print(group_car_df)\n",
    "plt.figure(figsize=(50, 35))\n",
    "group_car_df.plot.bar(stacked=True, width=1, align='center')\n",
    "plt.xlabel(\"Number of Stops\")\n",
    "plt.ylabel(\"Count\")\n",
    "plt.title(\"Number of Stops per Vehicle Type\")\n",
    "plt.show()"
   ],
   "metadata": {
    "collapsed": false,
    "pycharm": {
     "name": "#%%\n"
    }
   }
  },
  {
   "cell_type": "code",
   "execution_count": 378,
   "metadata": {
    "pycharm": {
     "name": "#%%\n"
    }
   },
   "outputs": [],
   "source": [
    "#dictionary with timestamp as key\n",
    "time_dict = defaultdict(list)\n",
    "for x in range(len(data['car-id'])):\n",
    "    time_dict[data['Timestamp'][x]].append((data['car-id'][x], data['gate-name'][x], data['car-type'][x]))"
   ]
  },
  {
   "cell_type": "code",
   "execution_count": 379,
   "outputs": [
    {
     "name": "stdout",
     "output_type": "stream",
     "text": [
      "                     car-id  car-type  gate-name\n",
      "Timestamp                                       \n",
      "2015-05-01 00:00:00       1         1          1\n",
      "2015-05-01 01:00:00      10        10         10\n",
      "2015-05-01 02:00:00       5         5          5\n",
      "2015-05-01 03:00:00      18        18         18\n",
      "2015-05-01 04:00:00       7         7          7\n",
      "...                     ...       ...        ...\n",
      "2016-05-31 19:00:00       6         6          6\n",
      "2016-05-31 20:00:00      14        14         14\n",
      "2016-05-31 21:00:00       4         4          4\n",
      "2016-05-31 22:00:00      17        17         17\n",
      "2016-05-31 23:00:00      15        15         15\n",
      "\n",
      "[9528 rows x 3 columns]\n",
      "            car-id  car-type  gate-name\n",
      "Timestamp                              \n",
      "2015-05-31   10561     10561      10561\n",
      "2015-06-30   25279     25279      25279\n",
      "2015-07-31   39518     39518      39518\n",
      "2015-08-31   31845     31845      31845\n",
      "2015-09-30   22907     22907      22907\n",
      "2015-10-31    8108      8108       8108\n",
      "2015-11-30    3816      3816       3816\n",
      "2015-12-31    2834      2834       2834\n",
      "2016-01-31    2971      2971       2971\n",
      "2016-02-29    4090      4090       4090\n",
      "2016-03-31    4455      4455       4455\n",
      "2016-04-30    4538      4538       4538\n",
      "2016-05-31   10555     10555      10555\n",
      "            car-id  car-type  gate-name\n",
      "Timestamp                              \n",
      "2015-05-01     324       324        324\n",
      "2015-05-02     298       298        298\n",
      "2015-05-03     293       293        293\n",
      "2015-05-04     336       336        336\n",
      "2015-05-05     250       250        250\n",
      "...            ...       ...        ...\n",
      "2016-05-27     341       341        341\n",
      "2016-05-28     335       335        335\n",
      "2016-05-29     340       340        340\n",
      "2016-05-30     317       317        317\n",
      "2016-05-31     384       384        384\n",
      "\n",
      "[397 rows x 3 columns]\n",
      "            car-id  car-type  gate-name\n",
      "Timestamp                              \n",
      "2015-05-31   10561     10561      10561\n",
      "2015-06-30   25279     25279      25279\n",
      "2015-07-31   39518     39518      39518\n",
      "2015-08-31   31845     31845      31845\n",
      "2015-09-30   22907     22907      22907\n",
      "2015-10-31    8108      8108       8108\n",
      "2015-11-30    3816      3816       3816\n",
      "2015-12-31    2834      2834       2834\n",
      "2016-01-31    2971      2971       2971\n",
      "2016-02-29    4090      4090       4090\n",
      "2016-03-31    4455      4455       4455\n",
      "2016-04-30    4538      4538       4538\n",
      "2016-05-31   10555     10555      10555\n"
     ]
    },
    {
     "data": {
      "text/plain": "<Figure size 432x288 with 1 Axes>",
      "image/png": "[encoded data removed]"
     },
     "metadata": {
      "needs_background": "light"
     },
     "output_type": "display_data"
    }
   ],
   "source": [
    "#\n",
    "#\n",
    "#\n",
    "#\n",
    "# sort by day, month, year, season, time of day.\n",
    "# NOT ALL AT ONCE THOUGH\n",
    "#\n",
    "#\n",
    "#\n",
    "#\n",
    "time_hour = data.groupby(pd.Grouper(key='Timestamp', freq=\"1H\")).count()\n",
    "time_hour.columns = time_hour.columns.to_flat_index()\n",
    "print(time_hour)\n",
    "time_month = data.groupby(pd.Grouper(key='Timestamp', freq=\"1M\")).count()\n",
    "print(time_month)\n",
    "time_day = data.groupby(pd.Grouper(key='Timestamp', freq=\"1D\")).count()\n",
    "print(time_day)\n",
    "time_min = data.groupby(pd.Grouper(key='Timestamp', freq=\"1m\")).count()\n",
    "print(time_min)\n",
    "plt.hist(time_hour)\n",
    "plt.xlabel(\"Time\")\n",
    "plt.ylabel(\"Count\")\n",
    "plt.title(\"Frequency of Travel Times\")\n",
    "plt.show()"
   ],
   "metadata": {
    "collapsed": false,
    "pycharm": {
     "name": "#%%\n"
    }
   }
  },
  {
   "cell_type": "code",
   "execution_count": 380,
   "metadata": {
    "pycharm": {
     "name": "#%%\n"
    }
   },
   "outputs": [],
   "source": [
    "#dictionary with vehicle type as key\n",
    "car_type_dict = defaultdict(list)\n",
    "for x in range(len(data['car-id'])):\n",
    "    car_type_dict[data['car-type'][x]].append((data['Timestamp'][x], data['gate-name'][x], data['car-id'][x]))\n",
    "\n"
   ]
  },
  {
   "cell_type": "code",
   "execution_count": 381,
   "metadata": {
    "pycharm": {
     "name": "#%%\n"
    }
   },
   "outputs": [],
   "source": [
    "#dictionary with sensor name as key\n",
    "gate_dict = defaultdict(list)\n",
    "for x in range(len(data['car-id'])):\n",
    "    gate_dict[data['gate-name'][x]].append((data['car-id'][x], data['Timestamp'][x], data['car-type'][x]))\n"
   ]
  },
  {
   "cell_type": "code",
   "execution_count": 382,
   "metadata": {
    "pycharm": {
     "name": "#%%\n"
    }
   },
   "outputs": [],
   "source": [
    "#create graph class\n",
    "\n",
    "class Graph(object):\n",
    "\n",
    "    def __init__(self, graph_dict=None):\n",
    "        if graph_dict == None:\n",
    "            graph_dict = {}\n",
    "        self._graph_dict = graph_dict\n",
    "    def edges(self, vertex):\n",
    "        return self._graph_dict[vertex]\n",
    "    def all_vertices(self):\n",
    "        return set(self._graph_dict.keys())\n",
    "    def all_edges(self):\n",
    "        return self._generate_edges()\n",
    "    def add_vertex(self, vertex):\n",
    "        if vertex not in self._graph_dict:\n",
    "            self._graph_dict[vertex] = []\n",
    "    def add_edge(self, edge):\n",
    "        edge = set(edge)\n",
    "        v1, v2 = tuple(edge)\n",
    "        for x, y in [(v1, v2), (v2, v1)]:\n",
    "            for x in self._graph_dict:\n",
    "                self._graph_dict[x].add(y)\n",
    "            else:\n",
    "                self._graph_dict[x] = [y]\n",
    "    def _generate_edges(self):\n",
    "        edges = []\n",
    "        for vertex in self._graph_dict:\n",
    "            for neighbor in self._graph_dict[vertex]:\n",
    "                if {neighbor, vertex} not in edges:\n",
    "                    edges.append({vertex, neighbor})\n",
    "        return edges\n",
    "    def __iter__(self):\n",
    "        self._iter_obj = iter(self._graph_dict)\n",
    "        return self._iter_obj\n",
    "    def __next__(self):\n",
    "        return next(self._iter_obj)\n",
    "    def __str__(self):\n",
    "        res = \"vertices: \"\n",
    "        for k in self._graph_dict:\n",
    "            res += str(k) + \" \"\n",
    "        res += \"\\nedges: \"\n",
    "        for edge in self._generate_edges():\n",
    "            res += str(edge) + \" \"\n",
    "        return res"
   ]
  },
  {
   "cell_type": "code",
   "execution_count": 383,
   "metadata": {
    "pycharm": {
     "name": "#%%\n"
    }
   },
   "outputs": [],
   "source": [
    "#create graph of all sensors\n",
    "\n",
    "g = {\"Entrance_0\": {'General_gate_1', 'Gate_0', 'General_gate_4', 'General_gate_7', 'Gate_7', 'Gate_6', 'Entrance_3'},\n",
    "     \"Entrance_1\": {'Gate_2', 'Camping_2', 'Camping_3', 'Camping_4', 'Camping_0', 'Gate_1', 'General_gate_7'},\n",
    "     \"Entrance_2\": {'General_gate_3', 'Gate_3', 'Camping_8', 'Camping_1', 'General_gate_0', 'General_gate_2', 'General_gate_5', 'Gate_4', 'General_gate_6', 'Gate_5', 'Camping_6', 'Gate_8', 'Entrance_4'},\n",
    "     \"Entrance_3\": {'Gate_6', 'Gate_7', 'General_gate_7', 'General_gate_4', 'Gate_0', 'General_gate_1', 'Entrance_0'},\n",
    "     \"Entrance_4\": {'Gate_8', 'Camping_6', 'Gate_5', 'General_gate_6', 'Gate_4', 'Entrance_2', 'General_gate_3', 'General_gate_5', 'Gate_3', 'Camping_8', 'Camping_1', 'General_gate_0', 'General_gate_2'},\n",
    "     \"Gate_0\": {'Gate_1', 'Entrance_0', 'General_gate_1', 'General_gate_4', 'Gate_6', 'Entrance_3', 'General_gate_7', 'Gate_7'},\n",
    "     \"Gate_1\": {'Camping_0', 'Gate_0', 'Camping_3', 'Camping_4', 'Entrance_1', 'Gate_2', 'Camping_2', 'General_gate_7'},\n",
    "     \"Gate_2\": {'Ranger_stop_1', 'Camping_2', 'Entrance_1', 'Camping_4', 'Camping_3', 'Camping_0', 'Gate_1', 'General_gate_7'},\n",
    "     \"Gate_3\": {'Ranger_stop_3', 'Camping_8', 'Camping_1', 'General_gate_0', 'General_gate_2', 'General_gate_5', 'General_gate_3', 'Entrance_2', 'Gate_4', 'General_gate_6', 'Gate_5', 'Camping_6', 'Gate_8', 'Entrance_4'},\n",
    "     \"Gate_4\": {'Ranger_stop_5', 'Entrance_2', 'General_gate_3', 'General_gate_5', 'Gate_3', 'Camping_8', 'Camping_1', 'General_gate_0', 'General_gate_2', 'General_gate_6', 'Gate_5', 'Camping_6', 'Gate_8', 'Entrance_4'},\n",
    "     \"Gate_5\": {'Ranger_stop_6', 'Camping_6', 'Gate_8', 'Entrance_4', 'General_gate_6', 'General_gate_5', 'Gate_4', 'Entrance_2', 'General_gate_3', 'Camping_8', 'Gate_3', 'Camping_1', 'General_gate_0', 'General_gate_0'},\n",
    "     \"Gate_6\": {'Ranger_stop_6', 'Entrance_3', 'Entrance_0', 'General_gate_1', 'Gate_0', 'General_gate_4', 'General_gate_7', 'Gate_7'},\n",
    "     \"Gate_7\": {'Ranger_stop_7', 'General_gate_7', 'General_gate_4', 'Gate_6', 'Entrance_3', 'Gate_0', 'General_gate_1', 'Entrance_0'},\n",
    "     \"Gate_8\": {'Ranger_base', 'Entrance_4', 'Camping_6', 'Gate_5', 'General_gate_6', 'General_gate_5', 'Gate_4', 'Entrance_2', 'General_gate_3', 'Camping_8', 'Gate_3', 'Camping_1', 'General_gate_0', 'General_gate_2'},\n",
    "     \"Camping_0\": {'Gate_1', 'Camping_3', 'Camping_4', 'Entrance_1', 'Gate_2', 'Camping_2', 'General_gate_7'},\n",
    "     \"Camping_1\": {'General_gate_0', 'General_gate_2', 'General_gate_5', 'Gate_3', 'Camping_8', 'General_gate_3', 'Entrance_2', 'Gate_4', 'General_gate_6', 'Gate_5', 'Camping_6', 'Gate_8', 'Entrance_4'},\n",
    "     \"Camping_2\": {'Gate_2', 'Entrance_1', 'Camping_4', 'Camping_3', 'Camping_0', 'Gate_1', 'General_gate_7'},\n",
    "     \"Camping_3\": {'Gate_1', 'Camping_0', 'Camping_4', 'Entrance_1', 'Gate_2', 'Camping_2', 'General_gate_7'},\n",
    "     \"Camping_4\": {'General_gate_7', 'Gate_1', 'Camping_0', 'Camping_3', 'Entrance_1', 'Gate_2', 'Camping_2'},\n",
    "     \"Camping_5\": {'Ranger_stop_4', 'General_gate_7'},\n",
    "     \"Camping_6\": {'Entrance_4', 'Gate_8', 'Gate_5', 'General_gate_6', 'General_gate_5', 'Gate_4', 'Entrance_2', 'General_gate_3', 'Gate_3', 'Camping_8', 'Camping_1', 'General_gate_0', 'General_gate_2'},\n",
    "     \"Camping_7\": {'General_gate_6'},\n",
    "     \"Camping_8\": {'General_gate_3', 'Gate_3', 'Camping_1', 'General_gate_0', 'General_gate_2', 'General_gate_5', 'Entrance_2', 'Gate_4', 'General_gate_6', 'Gate_5', 'Camping_6', 'Gate_8', 'Entrance_4'},\n",
    "     \"General_gate_0\": {'General_gate_2', 'Camping_1', 'Gate_3', 'Camping_8', 'General_gate_5', 'General_gate_3', 'Entrance_2', 'Gate_4', 'General_gate_6', 'Gate_5', 'Camping_6', 'Gate_8', 'Entrance_4'},\n",
    "     \"General_gate_1\": {'Entrance_0', 'Gate_0', 'Ranger_stop_2', 'General_gate_4', 'Gate_6', 'Entrance_3', 'General_gate_7', 'Gate_7'},\n",
    "     \"General_gate_2\": {'Ranger_stop_0', 'General_gate_0', 'Camping_1', 'General_gate_5', 'Gate_3', 'Camping_8', 'General_gate_3', 'Entrance_2', 'Gate_4', 'General_gate_6', 'Gate_5', 'Camping_6', 'Gate_8', 'Entrance_4'},\n",
    "     \"General_gate_3\": {'Camping_8', 'Entrance_2', 'Gate_4', 'General_gate_6', 'Gate_5', 'Camping_6', 'Gate_8', 'Entrance_4', 'General_gate_5', 'Gate_3', 'Camping_1', 'General_gate_0', 'General_gate_2'},\n",
    "     \"General_gate_4\": {'Entrance_0', 'General_gate_1', 'Gate_0', 'Gate_6', 'Entrance_3', 'Gate_7', 'General_gate_7'},\n",
    "     \"General_gate_5\": {'Gate_5', 'Camping_6', 'Gate_8', 'Entrance_4', 'General_gate_6', 'Gate_4', 'Entrance_2', 'General_gate_3', 'Camping_8', 'Gate_3', 'Camping_1', 'General_gate_0', 'General_gate_2'},\n",
    "     \"General_gate_6\": {'Camping_7', 'Gate_5', 'Camping_6', 'Gate_8', 'Entrance_4', 'General_gate_5', 'Gate_4', 'Entrance_2', 'General_gate_3', 'Camping_8', 'Gate_3', 'Camping_1', 'General_gate_0', 'General_gate_2'},\n",
    "     \"General_gate_7\": {'Camping_5', 'Ranger_stop_4', 'Gate_7', 'General_gate_4', 'Gate_6', 'Entrance_3', 'Entrance_1', 'Gate_2', 'Camping_2', 'Camping_4', 'Camping_3', 'Camping_0', 'Gate_1', 'Gate_0', 'General_gate_1', 'Entrance_0'},\n",
    "     \"Ranger_stop_0\": {'Ranger_stop_2', 'General_gate_2'},\n",
    "     \"Ranger_stop_1\": {'Gate_2'},\n",
    "     \"Ranger_stop_2\": {'Ranger_stop_0', 'General_gate_1'},\n",
    "     \"Ranger_stop_3\": {'Gate_3'},\n",
    "     \"Ranger_stop_4\": {'Camping_5', 'General_gate_7'},\n",
    "     \"Ranger_stop_5\": {'Gate_4'},\n",
    "     \"Ranger_stop_6\": {'Gate_5', 'Gate_6'},\n",
    "     \"Ranger_stop_7\": {'Gate_7'},\n",
    "     \"Ranger_base\": {'Gate_8'},\n",
    "     }\n",
    "\n",
    "g = Graph(g)"
   ]
  },
  {
   "cell_type": "code",
   "execution_count": 384,
   "metadata": {
    "pycharm": {
     "name": "#%%\n"
    }
   },
   "outputs": [],
   "source": [
    "#sort card id dictionary by timestamp\n",
    "#this will show the 'path' of each car over time\n",
    "car_sorted = {x:sorted(car_id_dict[x]) for x in car_id_dict.keys()}"
   ]
  },
  {
   "cell_type": "code",
   "execution_count": 385,
   "metadata": {
    "pycharm": {
     "name": "#%%\n"
    }
   },
   "outputs": [],
   "source": [
    "#Example to make sure times are sorted ascending\n",
    "print(car_id_dict[('20154301124328-262', '4')])"
   ]
  },
  {
   "cell_type": "code",
   "execution_count": 386,
   "metadata": {
    "pycharm": {
     "name": "#%%\n"
    }
   },
   "outputs": [],
   "source": [
    "# track individual cars\n",
    "print(\"Number of individual cars:\",len(data['car-id'].unique()))"
   ]
  },
  {
   "cell_type": "code",
   "execution_count": 387,
   "metadata": {},
   "outputs": [
    {
     "data": {
      "text/plain": "            Timestamp              car-id car-type      gate-name month\n0 2015-05-01 00:43:28  20154301124328-262        4      entrance3   May\n1 2015-05-01 01:03:48  20154301124328-262        4  general-gate1   May\n2 2015-05-01 01:06:24  20154301124328-262        4   ranger-stop2   May\n3 2015-05-01 01:09:25  20154301124328-262        4   ranger-stop0   May\n4 2015-05-01 01:12:36  20154301124328-262        4  general-gate2   May",
      "text/html": "<div>\n<style scoped>\n    .dataframe tbody tr th:only-of-type {\n        vertical-align: middle;\n    }\n\n    .dataframe tbody tr th {\n        vertical-align: top;\n    }\n\n    .dataframe thead th {\n        text-align: right;\n    }\n</style>\n<table border=\"1\" class=\"dataframe\">\n  <thead>\n    <tr style=\"text-align: right;\">\n      <th></th>\n      <th>Timestamp</th>\n      <th>car-id</th>\n      <th>car-type</th>\n      <th>gate-name</th>\n      <th>month</th>\n    </tr>\n  </thead>\n  <tbody>\n    <tr>\n      <th>0</th>\n      <td>2015-05-01 00:43:28</td>\n      <td>20154301124328-262</td>\n      <td>4</td>\n      <td>entrance3</td>\n      <td>May</td>\n    </tr>\n    <tr>\n      <th>1</th>\n      <td>2015-05-01 01:03:48</td>\n      <td>20154301124328-262</td>\n      <td>4</td>\n      <td>general-gate1</td>\n      <td>May</td>\n    </tr>\n    <tr>\n      <th>2</th>\n      <td>2015-05-01 01:06:24</td>\n      <td>20154301124328-262</td>\n      <td>4</td>\n      <td>ranger-stop2</td>\n      <td>May</td>\n    </tr>\n    <tr>\n      <th>3</th>\n      <td>2015-05-01 01:09:25</td>\n      <td>20154301124328-262</td>\n      <td>4</td>\n      <td>ranger-stop0</td>\n      <td>May</td>\n    </tr>\n    <tr>\n      <th>4</th>\n      <td>2015-05-01 01:12:36</td>\n      <td>20154301124328-262</td>\n      <td>4</td>\n      <td>general-gate2</td>\n      <td>May</td>\n    </tr>\n  </tbody>\n</table>\n</div>"
     },
     "execution_count": 387,
     "metadata": {},
     "output_type": "execute_result"
    }
   ],
   "source": [
    "# separate out by month to see trends\n",
    "data['month'] = [d.strftime('%b') for d in data.Timestamp]\n",
    "data.head()"
   ]
  },
  {
   "cell_type": "code",
   "execution_count": 388,
   "metadata": {},
   "outputs": [
    {
     "data": {
      "text/plain": "<AxesSubplot:xlabel='month', ylabel='count'>"
     },
     "execution_count": 388,
     "metadata": {},
     "output_type": "execute_result"
    },
    {
     "data": {
      "text/plain": "<Figure size 432x288 with 1 Axes>",
      "image/png": "[encoded data removed]"
     },
     "metadata": {
      "needs_background": "light"
     },
     "output_type": "display_data"
    }
   ],
   "source": [
    "# visualize data overall\n",
    "sns.countplot(x=data.month)"
   ]
  },
  {
   "cell_type": "code",
   "execution_count": 407,
   "metadata": {
    "scrolled": false
   },
   "outputs": [
    {
     "data": {
      "text/plain": "<Figure size 432x288 with 1 Axes>",
      "image/png": "[encoded data removed]"
     },
     "metadata": {
      "needs_background": "light"
     },
     "output_type": "display_data"
    },
    {
     "data": {
      "text/plain": "<Figure size 432x288 with 1 Axes>",
      "image/png": "[encoded data removed]"
     },
     "metadata": {
      "needs_background": "light"
     },
     "output_type": "display_data"
    },
    {
     "data": {
      "text/plain": "<Figure size 432x288 with 1 Axes>",
      "image/png": "[encoded data removed]"
     },
     "metadata": {
      "needs_background": "light"
     },
     "output_type": "display_data"
    },
    {
     "data": {
      "text/plain": "<Figure size 432x288 with 1 Axes>",
      "image/png": "[encoded data removed]"
     },
     "metadata": {
      "needs_background": "light"
     },
     "output_type": "display_data"
    },
    {
     "data": {
      "text/plain": "<Figure size 432x288 with 1 Axes>",
      "image/png": "[encoded data removed]"
     },
     "metadata": {
      "needs_background": "light"
     },
     "output_type": "display_data"
    },
    {
     "data": {
      "text/plain": "<Figure size 432x288 with 1 Axes>",
      "image/png": "[encoded data removed]"
     },
     "metadata": {
      "needs_background": "light"
     },
     "output_type": "display_data"
    },
    {
     "data": {
      "text/plain": "<Figure size 432x288 with 1 Axes>",
      "image/png": "[encoded data removed]"
     },
     "metadata": {
      "needs_background": "light"
     },
     "output_type": "display_data"
    }
   ],
   "source": [
    "#could use some fixing up visually, but all the graphs can be put into 1\n",
    "month_df = data.groupby(['month', 'car-type']).size().unstack(level=1)\n",
    "month_df.plot(kind='bar')\n",
    "\n",
    "# visualize data grouped by car type and month\n",
    "# for t in sorted(data['car-type'].unique()):\n",
    "#     sns.countplot(x=data.month[data['car-type']==t]).set(title=[\"Car type\", t])\n",
    "#     plt.show()\n"
   ]
  },
  {
   "cell_type": "code",
   "execution_count": 408,
   "metadata": {},
   "outputs": [
    {
     "data": {
      "text/plain": "            Timestamp              car-id car-type      gate-name month  \\\n0 2015-05-01 00:43:28  20154301124328-262        4      entrance3   May   \n1 2015-05-01 01:03:48  20154301124328-262        4  general-gate1   May   \n2 2015-05-01 01:06:24  20154301124328-262        4   ranger-stop2   May   \n3 2015-05-01 01:09:25  20154301124328-262        4   ranger-stop0   May   \n4 2015-05-01 01:12:36  20154301124328-262        4  general-gate2   May   \n\n      day  days  \n0  Friday     4  \n1  Friday     4  \n2  Friday     4  \n3  Friday     4  \n4  Friday     4  ",
      "text/html": "<div>\n<style scoped>\n    .dataframe tbody tr th:only-of-type {\n        vertical-align: middle;\n    }\n\n    .dataframe tbody tr th {\n        vertical-align: top;\n    }\n\n    .dataframe thead th {\n        text-align: right;\n    }\n</style>\n<table border=\"1\" class=\"dataframe\">\n  <thead>\n    <tr style=\"text-align: right;\">\n      <th></th>\n      <th>Timestamp</th>\n      <th>car-id</th>\n      <th>car-type</th>\n      <th>gate-name</th>\n      <th>month</th>\n      <th>day</th>\n      <th>days</th>\n    </tr>\n  </thead>\n  <tbody>\n    <tr>\n      <th>0</th>\n      <td>2015-05-01 00:43:28</td>\n      <td>20154301124328-262</td>\n      <td>4</td>\n      <td>entrance3</td>\n      <td>May</td>\n      <td>Friday</td>\n      <td>4</td>\n    </tr>\n    <tr>\n      <th>1</th>\n      <td>2015-05-01 01:03:48</td>\n      <td>20154301124328-262</td>\n      <td>4</td>\n      <td>general-gate1</td>\n      <td>May</td>\n      <td>Friday</td>\n      <td>4</td>\n    </tr>\n    <tr>\n      <th>2</th>\n      <td>2015-05-01 01:06:24</td>\n      <td>20154301124328-262</td>\n      <td>4</td>\n      <td>ranger-stop2</td>\n      <td>May</td>\n      <td>Friday</td>\n      <td>4</td>\n    </tr>\n    <tr>\n      <th>3</th>\n      <td>2015-05-01 01:09:25</td>\n      <td>20154301124328-262</td>\n      <td>4</td>\n      <td>ranger-stop0</td>\n      <td>May</td>\n      <td>Friday</td>\n      <td>4</td>\n    </tr>\n    <tr>\n      <th>4</th>\n      <td>2015-05-01 01:12:36</td>\n      <td>20154301124328-262</td>\n      <td>4</td>\n      <td>general-gate2</td>\n      <td>May</td>\n      <td>Friday</td>\n      <td>4</td>\n    </tr>\n  </tbody>\n</table>\n</div>"
     },
     "execution_count": 408,
     "metadata": {},
     "output_type": "execute_result"
    }
   ],
   "source": [
    "# separate out by weekdays\n",
    "data['day'] = [calendar.day_name[int(d.weekday())] for d in data.Timestamp]\n",
    "data['days'] = [d.weekday() for d in data.Timestamp]\n",
    "data['hours'] = [d.hour for d in data.Timestamp]\n",
    "data.head()"
   ]
  },
  {
   "cell_type": "code",
   "execution_count": 414,
   "metadata": {},
   "outputs": [
    {
     "data": {
      "text/plain": "<AxesSubplot:xlabel='day'>"
     },
     "execution_count": 414,
     "metadata": {},
     "output_type": "execute_result"
    },
    {
     "data": {
      "text/plain": "<Figure size 432x288 with 1 Axes>",
      "image/png": "[encoded data removed]"
     },
     "metadata": {
      "needs_background": "light"
     },
     "output_type": "display_data"
    }
   ],
   "source": [
    "# visualize data grouped by car type and week days\n",
    "# for t in sorted(data['car-type'].unique()):\n",
    "#     sns.countplot(x=data.groupby(['month', 'days'])[data['car-type']==t]).set(title=[\"Car type\", t])\n",
    "#     plt.show()\n",
    "\n",
    "#could use some fixing up visually, but all the graphs can be put into 1\n",
    "day_df = data.groupby(['day', 'car-type']).size().unstack(level=1)\n",
    "day_df.plot(kind='bar')"
   ]
  },
  {
   "cell_type": "code",
   "execution_count": null,
   "metadata": {},
   "outputs": [],
   "source": [
    "# this attempt gives no real information\n",
    "groups = data.groupby(['month', 'days', 'car-type']).size()"
   ]
  },
  {
   "cell_type": "code",
   "execution_count": null,
   "metadata": {},
   "outputs": [],
   "source": [
    "# attempt to use pivot tables for visualization; \n",
    "info = data.pivot_table(index=\"month\",columns=\"days\",values=\"car-type\",aggfunc=\"sum\")\n",
    "sns.heatmap(info)"
   ]
  },
  {
   "cell_type": "code",
   "execution_count": null,
   "metadata": {},
   "outputs": [],
   "source": [
    "# a heatmap attempt \n",
    "sns.heatmap(data.groupby(['month', 'days', 'car-type']).size()[:, np.newaxis])"
   ]
  },
  {
   "cell_type": "code",
   "execution_count": null,
   "metadata": {},
   "outputs": [],
   "source": [
    "# another heatmap attempt\n",
    "times = np.asarray(data.days).reshape(171477,1)\n",
    "sns.heatmap(times)"
   ]
  },
  {
   "cell_type": "code",
   "execution_count": null,
   "metadata": {},
   "outputs": [],
   "source": [
    "# this attempt did not work to separate out cars by type\n",
    "graph = data.set_index('day')\n",
    "print(graph.head())\n",
    "graph.groupby('day').count()['car-type'].plot(legend=True)"
   ]
  },
  {
   "cell_type": "code",
   "execution_count": null,
   "metadata": {},
   "outputs": [],
   "source": [
    "g = data.groupby('month')['car-type'].value_counts()\n",
    "g.head()\n"
   ]
  },
  {
   "cell_type": "code",
   "execution_count": null,
   "metadata": {},
   "outputs": [],
   "source": [
    "g.plot(legend=True)"
   ]
  },
  {
   "cell_type": "code",
   "execution_count": null,
   "metadata": {},
   "outputs": [],
   "source": [
    "p = data.groupby(['month', 'car-type']).size()\n",
    "p.head()"
   ]
  },
  {
   "cell_type": "code",
   "execution_count": null,
   "metadata": {},
   "outputs": [],
   "source": [
    "p.unstack().plot(legend=True)"
   ]
  },
  {
   "cell_type": "code",
   "execution_count": null,
   "metadata": {},
   "outputs": [],
   "source": [
    "l = data.groupby(['days','car-type']).size()\n",
    "l.unstack().plot(legend=True)"
   ]
  },
  {
   "cell_type": "code",
   "execution_count": null,
   "metadata": {},
   "outputs": [],
   "source": [
    "m = data.groupby(['month','days','car-type']).size()\n",
    "m.unstack().plot(legend=True)"
   ]
  },
  {
   "cell_type": "code",
   "execution_count": null,
   "metadata": {},
   "outputs": [],
   "source": [
    "m = data.groupby(['gate-name','car-type']).size()\n",
    "m.unstack().plot(legend=True)"
   ]
  },
  {
   "cell_type": "code",
   "execution_count": null,
   "metadata": {},
   "outputs": [],
   "source": [
    "n = data.groupby(['hours', 'car-type']).size()\n",
    "n.unstack().plot(legend=True)"
   ]
  },
  {
   "cell_type": "code",
   "execution_count": null,
   "metadata": {},
   "outputs": [],
   "source": [
    "# another heatmap attempt. not having luck with not having duplicate indexes...???\n",
    "data[\"months2\"] = pd.Categorical(data[\"month\"], data.month.unique())\n",
    "data[\"days2\"] = pd.Categorical(data[\"days\"], data.days.unique())\n",
    "data[\"cars2\"] = pd.Categorical(data[\"car-type\"], data[\"car-type\"].unique())\n",
    "car_matrix = data.pivot(\"months2\",\"days\",\"car-type\")\n",
    "r = sns.heatmap (car_matrix, cmap='BuPu')"
   ]
  },
  {
   "cell_type": "code",
   "execution_count": null,
   "metadata": {},
   "outputs": [],
   "source": []
  }
 ],
 "metadata": {
  "kernelspec": {
   "display_name": "Python 3 (ipykernel)",
   "language": "python",
   "name": "python3"
  },
  "language_info": {
   "codemirror_mode": {
    "name": "ipython",
    "version": 3
   },
   "file_extension": ".py",
   "mimetype": "text/x-python",
   "name": "python",
   "nbconvert_exporter": "python",
   "pygments_lexer": "ipython3",
   "version": "3.9.10"
  }
 },
 "nbformat": 4,
 "nbformat_minor": 1
}