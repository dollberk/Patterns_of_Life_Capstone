{
 "cells": [
  {
   "cell_type": "code",
   "execution_count": null,
   "metadata": {
    "pycharm": {
     "name": "#%%\n"
    }
   },
   "outputs": [],
   "source": [
    "import pandas as pd\n",
    "import numpy as np\n",
    "import seaborn as sns\n",
    "import cv2\n",
    "import matplotlib.pyplot as plt\n",
    "from collections import defaultdict\n",
    "import calendar\n",
    "from datetime import datetime\n",
    "plt.rcParams['figure.figsize'] = [20, 10]"
   ]
  },
  {
   "cell_type": "code",
   "execution_count": null,
   "metadata": {
    "pycharm": {
     "name": "#%%\n"
    }
   },
   "outputs": [],
   "source": [
    "#Read in the data\n",
    "data = pd.read_csv(\"Lekagul Sensor Data.csv\")\n",
    "data"
   ]
  },
  {
   "cell_type": "code",
   "execution_count": null,
   "metadata": {
    "pycharm": {
     "name": "#%%\n"
    }
   },
   "outputs": [],
   "source": [
    "#Check each column's data type\n",
    "data.dtypes"
   ]
  },
  {
   "cell_type": "code",
   "execution_count": null,
   "metadata": {
    "pycharm": {
     "name": "#%%\n"
    }
   },
   "outputs": [],
   "source": [
    "#Check for nulls\n",
    "data.isna().sum()"
   ]
  },
  {
   "cell_type": "code",
   "execution_count": 48,
   "metadata": {
    "pycharm": {
     "name": "#%%\n"
    }
   },
   "outputs": [
    {
     "data": {
      "text/html": [
       "<div>\n",
       "<style scoped>\n",
       "    .dataframe tbody tr th:only-of-type {\n",
       "        vertical-align: middle;\n",
       "    }\n",
       "\n",
       "    .dataframe tbody tr th {\n",
       "        vertical-align: top;\n",
       "    }\n",
       "\n",
       "    .dataframe thead th {\n",
       "        text-align: right;\n",
       "    }\n",
       "</style>\n",
       "<table border=\"1\" class=\"dataframe\">\n",
       "  <thead>\n",
       "    <tr style=\"text-align: right;\">\n",
       "      <th></th>\n",
       "      <th>Timestamp</th>\n",
       "      <th>car-id</th>\n",
       "      <th>car-type</th>\n",
       "      <th>gate-name</th>\n",
       "      <th>month</th>\n",
       "      <th>day</th>\n",
       "      <th>days</th>\n",
       "      <th>hours</th>\n",
       "      <th>months</th>\n",
       "      <th>gates</th>\n",
       "      <th>cars</th>\n",
       "    </tr>\n",
       "  </thead>\n",
       "  <tbody>\n",
       "    <tr>\n",
       "      <th>0</th>\n",
       "      <td>2015-05-01 00:43:28</td>\n",
       "      <td>20154301124328-262</td>\n",
       "      <td>4</td>\n",
       "      <td>entrance3</td>\n",
       "      <td>May</td>\n",
       "      <td>Friday</td>\n",
       "      <td>4</td>\n",
       "      <td>0</td>\n",
       "      <td>5</td>\n",
       "      <td>entrance</td>\n",
       "      <td>truck</td>\n",
       "    </tr>\n",
       "    <tr>\n",
       "      <th>1</th>\n",
       "      <td>2015-05-01 01:03:48</td>\n",
       "      <td>20154301124328-262</td>\n",
       "      <td>4</td>\n",
       "      <td>general-gate1</td>\n",
       "      <td>May</td>\n",
       "      <td>Friday</td>\n",
       "      <td>4</td>\n",
       "      <td>1</td>\n",
       "      <td>5</td>\n",
       "      <td>general_gate</td>\n",
       "      <td>truck</td>\n",
       "    </tr>\n",
       "    <tr>\n",
       "      <th>2</th>\n",
       "      <td>2015-05-01 01:06:24</td>\n",
       "      <td>20154301124328-262</td>\n",
       "      <td>4</td>\n",
       "      <td>ranger-stop2</td>\n",
       "      <td>May</td>\n",
       "      <td>Friday</td>\n",
       "      <td>4</td>\n",
       "      <td>1</td>\n",
       "      <td>5</td>\n",
       "      <td>ranger_stop</td>\n",
       "      <td>truck</td>\n",
       "    </tr>\n",
       "    <tr>\n",
       "      <th>3</th>\n",
       "      <td>2015-05-01 01:09:25</td>\n",
       "      <td>20154301124328-262</td>\n",
       "      <td>4</td>\n",
       "      <td>ranger-stop0</td>\n",
       "      <td>May</td>\n",
       "      <td>Friday</td>\n",
       "      <td>4</td>\n",
       "      <td>1</td>\n",
       "      <td>5</td>\n",
       "      <td>ranger_stop</td>\n",
       "      <td>truck</td>\n",
       "    </tr>\n",
       "    <tr>\n",
       "      <th>4</th>\n",
       "      <td>2015-05-01 01:12:36</td>\n",
       "      <td>20154301124328-262</td>\n",
       "      <td>4</td>\n",
       "      <td>general-gate2</td>\n",
       "      <td>May</td>\n",
       "      <td>Friday</td>\n",
       "      <td>4</td>\n",
       "      <td>1</td>\n",
       "      <td>5</td>\n",
       "      <td>general_gate</td>\n",
       "      <td>truck</td>\n",
       "    </tr>\n",
       "  </tbody>\n",
       "</table>\n",
       "</div>"
      ],
      "text/plain": [
       "            Timestamp              car-id car-type      gate-name month  \\\n",
       "0 2015-05-01 00:43:28  20154301124328-262        4      entrance3   May   \n",
       "1 2015-05-01 01:03:48  20154301124328-262        4  general-gate1   May   \n",
       "2 2015-05-01 01:06:24  20154301124328-262        4   ranger-stop2   May   \n",
       "3 2015-05-01 01:09:25  20154301124328-262        4   ranger-stop0   May   \n",
       "4 2015-05-01 01:12:36  20154301124328-262        4  general-gate2   May   \n",
       "\n",
       "      day  days  hours  months         gates   cars  \n",
       "0  Friday     4      0       5      entrance  truck  \n",
       "1  Friday     4      1       5  general_gate  truck  \n",
       "2  Friday     4      1       5   ranger_stop  truck  \n",
       "3  Friday     4      1       5   ranger_stop  truck  \n",
       "4  Friday     4      1       5  general_gate  truck  "
      ]
     },
     "execution_count": 48,
     "metadata": {},
     "output_type": "execute_result"
    }
   ],
   "source": [
    "#Change variables to appropriate type\n",
    "data['Timestamp'] = pd.to_datetime(data['Timestamp'])\n",
    "data['car-type'] = data['car-type'].astype('category')\n",
    "data['gate-name'] = data['gate-name'].astype('category')\n",
    "\n",
    "# separate out by months and weekdays to see trends\n",
    "data['month'] = [d.strftime('%b') for d in data.Timestamp]\n",
    "data['day'] = [calendar.day_name[int(d.weekday())] for d in data.Timestamp]\n",
    "data['days'] = [d.weekday() for d in data.Timestamp]\n",
    "data['hours'] = [d.hour for d in data.Timestamp]\n",
    "data['months'] = [d.month for d in data.Timestamp]\n",
    "\n",
    "# reduce cars and gate types\n",
    "\n",
    "data['gates'] = np.where(data['gate-name'].str.startswith('entrance'), 'entrance',   \n",
    "                 np.where(data['gate-name'].str.startswith('general'),'general_gate',\n",
    "                  np.where(data['gate-name'].str.startswith('gate'), 'gate',\n",
    "                           np.where(data['gate-name'].str.startswith('ranger'),'ranger_stop',\n",
    "                                   np.where(data['gate-name'].str.startswith('camping'), 'camping', 0)))))\n",
    "\n",
    "data['cars'] = np.where(data['car-type'] == '1', 'car',\n",
    "                       np.where(data['car-type']=='2P','park_truck',\n",
    "                               np.where((data['car-type']=='3')| (data['car-type']=='4'), 'truck',\n",
    "                                       np.where((data['car-type']=='5') | (data['car-type']=='6'), 'bus', 0))))\n",
    "data.head()\n"
   ]
  },
  {
   "cell_type": "code",
   "execution_count": null,
   "metadata": {
    "pycharm": {
     "name": "#%%\n"
    }
   },
   "outputs": [],
   "source": [
    "#Check each column's data type again\n",
    "data.dtypes"
   ]
  },
  {
   "cell_type": "code",
   "execution_count": null,
   "metadata": {
    "pycharm": {
     "name": "#%%\n"
    }
   },
   "outputs": [],
   "source": [
    "#Describe the statistics of the base data\n",
    "data.describe()"
   ]
  },
  {
   "cell_type": "code",
   "execution_count": null,
   "metadata": {
    "pycharm": {
     "name": "#%%\n"
    }
   },
   "outputs": [],
   "source": [
    "#Visualize distribution of each column & outliers\n",
    "data.hist(bins=1000, figsize=(15, 10))"
   ]
  },
  {
   "cell_type": "code",
   "execution_count": null,
   "metadata": {
    "pycharm": {
     "name": "#%%\n"
    }
   },
   "outputs": [],
   "source": [
    "#load in bmp\n",
    "img = cv2.imread('Lekagul Roadways.bmp')\n",
    "flip = img[::-1,:,:]\n",
    "pixel_values = flip[:,:,::-1]\n",
    "plt.imshow(flip[:,:,::-1],vmin=0,vmax=255), plt.show()\n",
    "plt.imshow(flip[:,:,::-1]), plt.gca().invert_yaxis(), plt.show()"
   ]
  },
  {
   "cell_type": "code",
   "execution_count": null,
   "metadata": {
    "pycharm": {
     "name": "#%%\n"
    }
   },
   "outputs": [],
   "source": [
    "#color names\n",
    "\n",
    "# (0, 0, 0), black\n",
    "#  (0, 255, 255), cyan\n",
    "#  (1, 1, 1), black\n",
    "#  (2, 2, 2), black\n",
    "#  (3, 3, 3), black\n",
    "#  (5, 5, 5), black\n",
    "#  (6, 6, 6), black\n",
    "#  (8, 8, 8), black\n",
    "#  (9, 9, 9), black\n",
    "#  (14, 14, 14), black\n",
    "#  (16, 16, 16),black\n",
    "#  (17, 17, 17),black\n",
    "#  (18, 18, 18),black\n",
    "#  (19, 19, 19),black\n",
    "#  (20, 20, 20),black\n",
    "#  (21, 21, 21),black\n",
    "#  (22, 22, 22),black\n",
    "#  (23, 23, 23),black\n",
    "#  (24, 24, 24),black\n",
    "#  (25, 25, 25),black\n",
    "#  (31, 31, 31),black\n",
    "#  (46, 46, 46),black\n",
    "#  (64, 64, 64),black\n",
    "#  (65, 65, 65),black\n",
    "#  (66, 66, 66),black\n",
    "#  (67, 67, 67),black\n",
    "#  (68, 68, 68),black\n",
    "#  (70, 70, 70),black\n",
    "#  (72, 72, 72),black\n",
    "#  (76, 255, 0),green\n",
    "#  (239, 239, 239),yellow\n",
    "#  (255, 0, 0),red\n",
    "#  (255, 0, 220),pink\n",
    "#  (255, 106, 0),orange\n",
    "#  (255, 216, 0),orange\n",
    "#  (255, 255, 255)white"
   ]
  },
  {
   "cell_type": "code",
   "execution_count": null,
   "metadata": {
    "pycharm": {
     "name": "#%%\n"
    }
   },
   "outputs": [],
   "source": [
    "#create np.array grid\n",
    "# replace color values with sensor names\n",
    "# 'R' signifies a road\n",
    "# '.' signifies empty space\n",
    "grid = [['.' for i in range(200)] for j in range(200)]\n",
    "\n",
    "for y in range(len(pixel_values)):\n",
    "    for x in range(len(pixel_values[y])):\n",
    "        if (pixel_values[x][y] == [0, 255, 255]).all():\n",
    "            grid[x][y] = 'general-gate'\n",
    "        elif (pixel_values[x][y] == [76, 255, 0]).all():\n",
    "            grid[x][y] = 'entrance'\n",
    "        elif (pixel_values[x][y] == [255, 216, 0]).all():\n",
    "            grid[x][y] = 'ranger-stop'\n",
    "        elif (pixel_values[x][y] == [255, 0, 0]).all():\n",
    "            grid[x][y] = 'gate'\n",
    "        elif (pixel_values[x][y] == [255, 0, 220]).all():\n",
    "            grid[x][y] = 'ranger-base'\n",
    "        elif (pixel_values[x][y] == [255, 106, 0]).all():\n",
    "            grid[x][y] = 'camping'\n",
    "        elif (pixel_values[x][y] == [255, 255, 255]).all():\n",
    "            grid[x][y] = 'R'\n",
    "        else:\n",
    "            continue"
   ]
  },
  {
   "cell_type": "code",
   "execution_count": null,
   "metadata": {
    "pycharm": {
     "name": "#%%\n"
    }
   },
   "outputs": [],
   "source": [
    "#get just the coordinates of the sensors\n",
    "\n",
    "color_map = []\n",
    "for x in range(len(grid)):\n",
    "    for y in range(len(grid[x])):\n",
    "        if grid[x][y] == \".\":\n",
    "            continue\n",
    "        else:\n",
    "            color_map.append([grid[x][y], (y,x)])\n"
   ]
  },
  {
   "cell_type": "code",
   "execution_count": null,
   "metadata": {
    "pycharm": {
     "name": "#%%\n"
    }
   },
   "outputs": [],
   "source": [
    "#Recursive function to find the shortest path along the roads\n",
    "\n",
    "def find_dist(start, end, count, checked = None ):\n",
    "    if checked is None:\n",
    "\t    checked = []\n",
    "    checked.append(start)\n",
    "\n",
    "    if start == end:\n",
    "        return count\n",
    "\n",
    "    else:\n",
    "        if (['R', (start[0] + 1, start[1])] in color_map and (start[0] + 1, start[1]) not in checked) or (end == (start[0] + 1, start[1])):\n",
    "            count += 1\n",
    "            res = find_dist((start[0] + 1, start[1]), end, count, checked)\n",
    "            if res is not None:\n",
    "                return res\n",
    "        if (['R', (start[0], start[1] + 1)] in color_map and (start[0], start[1] + 1) not in checked) or (end == (start[0], start[1] + 1)):\n",
    "            count += 1\n",
    "            res = find_dist((start[0], start[1] + 1), end, count, checked)\n",
    "            if res is not None:\n",
    "                return res\n",
    "        if (['R', (start[0] - 1, start[1])] in color_map and (start[0] - 1, start[1]) not in checked) or (end == (start[0] - 1, start[1])):\n",
    "            count += 1\n",
    "            res = find_dist((start[0] - 1, start[1]), end, count, checked)\n",
    "            if res is not None:\n",
    "                return res\n",
    "        if (['R', (start[0], start[1] - 1)] in color_map and (start[0], start[1] - 1) not in checked) or (end == (start[0], start[1] - 1)):\n",
    "            count += 1\n",
    "            res = find_dist((start[0], start[1] - 1), end, count, checked)\n",
    "            if res is not None:\n",
    "                return res"
   ]
  },
  {
   "cell_type": "code",
   "execution_count": null,
   "metadata": {
    "pycharm": {
     "name": "#%%\n"
    }
   },
   "outputs": [],
   "source": [
    "#create graph of all sensors\n",
    "\n",
    "g = {\"entrance0\": {'general-gate1', 'gate0', 'general-gate4', 'general-gate7', 'gate7', 'gate6', 'entrance3'},\n",
    "     \"entrance1\": {'gate2', 'camping2', 'camping3', 'camping4', 'camping0', 'gate1', 'general-gate7'},\n",
    "     \"entrance2\": {'general-gate3', 'gate3', 'camping8', 'camping1', 'general-gate0', 'general-gate2', 'general-gate5', 'gate4', 'general-gate6', 'gate5', 'camping6', 'gate8', 'entrance4'},\n",
    "     \"entrance3\": {'gate6', 'gate7', 'general-gate7', 'general-gate4', 'gate0', 'general-gate1', 'entrance0'},\n",
    "     \"entrance4\": {'gate8', 'camping6', 'gate5', 'general-gate6', 'gate4', 'entrance2', 'general-gate3', 'general-gate5', 'gate3', 'camping8', 'camping1', 'general-gate0', 'general-gate2'},\n",
    "     \"gate0\": {'gate1', 'entrance0', 'general-gate1', 'general-gate4', 'gate6', 'entrance3', 'general-gate7', 'gate7'},\n",
    "     \"gate1\": {'camping0', 'gate0', 'camping3', 'camping4', 'entrance1', 'gate2', 'camping2', 'general-gate7'},\n",
    "     \"gate2\": {'ranger-stop1', 'camping2', 'entrance1', 'camping4', 'camping3', 'camping0', 'gate1', 'general-gate7'},\n",
    "     \"gate3\": {'ranger-stop3', 'camping8', 'camping1', 'general-gate0', 'general-gate2', 'general-gate5', 'general-gate3', 'entrance2', 'gate4', 'general-gate6', 'gate5', 'camping6', 'gate8', 'entrance4'},\n",
    "     \"gate4\": {'ranger-stop5', 'entrance2', 'general-gate3', 'general-gate5', 'gate3', 'camping8', 'camping1', 'general-gate0', 'general-gate2', 'general-gate6', 'gate5', 'camping6', 'gate8', 'entrance4'},\n",
    "     \"gate5\": {'ranger-stop6', 'camping6', 'gate8', 'entrance4', 'general-gate6', 'general-gate5', 'gate4', 'entrance2', 'general-gate3', 'camping8', 'gate3', 'camping1', 'general-gate0', 'general-gate0'},\n",
    "     \"gate6\": {'ranger-stop6', 'entrance3', 'entrance0', 'general-gate1', 'gate0', 'general-gate4', 'general-gate7', 'gate7'},\n",
    "     \"gate7\": {'ranger-stop7', 'general-gate7', 'general-gate4', 'gate6', 'entrance3', 'gate0', 'general-gate1', 'entrance0'},\n",
    "     \"gate8\": {'ranger-base', 'entrance4', 'camping6', 'gate5', 'general-gate6', 'general-gate5', 'gate4', 'entrance2', 'general-gate3', 'camping8', 'gate3', 'camping1', 'general-gate0', 'general-gate2'},\n",
    "     \"camping0\": {'gate1', 'camping3', 'camping4', 'entrance1', 'gate2', 'camping2', 'general-gate7'},\n",
    "     \"camping1\": {'general-gate0', 'general-gate2', 'general-gate5', 'gate3', 'camping8', 'general-gate3', 'entrance2', 'gate4', 'general-gate6', 'gate5', 'camping6', 'gate8', 'entrance4'},\n",
    "     \"camping2\": {'gate2', 'entrance1', 'camping4', 'camping3', 'camping0', 'gate1', 'general-gate7'},\n",
    "     \"camping3\": {'gate1', 'camping0', 'camping4', 'entrance1', 'gate2', 'camping2', 'general-gate7'},\n",
    "     \"camping4\": {'general-gate7', 'gate1', 'camping0', 'camping3', 'entrance1', 'gate2', 'camping2'},\n",
    "     \"camping5\": {'ranger-stop4', 'general-gate7'},\n",
    "     \"camping6\": {'entrance4', 'gate8', 'gate5', 'general-gate6', 'general-gate5', 'gate4', 'entrance2', 'general-gate3', 'gate3', 'camping8', 'camping1', 'general-gate0', 'general-gate2'},\n",
    "     \"camping7\": {'general-gate6'},\n",
    "     \"camping8\": {'general-gate3', 'gate3', 'camping1', 'general-gate0', 'general-gate2', 'general-gate5', 'entrance2', 'gate4', 'general-gate6', 'gate5', 'camping6', 'gate8', 'entrance4'},\n",
    "     \"general-gate0\": {'general-gate2', 'camping1', 'gate3', 'camping8', 'general-gate5', 'general-gate3', 'entrance2', 'gate4', 'general-gate6', 'gate5', 'camping6', 'gate8', 'entrance4'},\n",
    "     \"general-gate1\": {'entrance0', 'gate0', 'ranger-stop2', 'general-gate4', 'gate6', 'entrance3', 'general-gate7', 'gate7'},\n",
    "     \"general-gate2\": {'ranger-stop0', 'general-gate0', 'camping1', 'general-gate5', 'gate3', 'camping8', 'general-gate3', 'entrance2', 'gate4', 'general-gate6', 'gate5', 'camping6', 'gate8', 'entrance4'},\n",
    "     \"general-gate3\": {'camping8', 'entrance2', 'gate4', 'general-gate6', 'gate5', 'camping6', 'gate8', 'entrance4', 'general-gate5', 'gate3', 'camping1', 'general-gate0', 'general-gate2'},\n",
    "     \"general-gate4\": {'entrance0', 'general-gate1', 'gate0', 'gate6', 'entrance3', 'gate7', 'general-gate7'},\n",
    "     \"general-gate5\": {'gate5', 'camping6', 'gate8', 'entrance4', 'general-gate6', 'gate4', 'entrance2', 'general-gate3', 'camping8', 'gate3', 'camping1', 'general-gate0', 'general-gate2'},\n",
    "     \"general-gate6\": {'camping7', 'gate5', 'camping6', 'gate8', 'entrance4', 'general-gate5', 'gate4', 'entrance2', 'general-gate3', 'camping8', 'gate3', 'camping1', 'general-gate0', 'general-gate2'},\n",
    "     \"general-gate7\": {'camping5', 'ranger-stop4', 'gate7', 'general-gate4', 'gate6', 'entrance3', 'entrance1', 'gate2', 'camping2', 'camping4', 'camping3', 'camping0', 'gate1', 'gate0', 'general-gate1', 'entrance0'},\n",
    "     \"ranger-stop0\": {'ranger-stop2', 'general-gate2'},\n",
    "     \"ranger-stop1\": {'gate2'},\n",
    "     \"ranger-stop2\": {'ranger-stop0', 'general-gate1'},\n",
    "     \"ranger-stop3\": {'gate3'},\n",
    "     \"ranger-stop4\": {'camping5', 'general-gate7'},\n",
    "     \"ranger-stop5\": {'gate4'},\n",
    "     \"ranger-stop6\": {'gate5', 'gate6'},\n",
    "     \"ranger-stop7\": {'gate7'},\n",
    "     \"ranger-base\": {'gate8'},\n",
    "     }"
   ]
  },
  {
   "cell_type": "code",
   "execution_count": null,
   "metadata": {
    "pycharm": {
     "name": "#%%\n"
    }
   },
   "outputs": [],
   "source": [
    "#Mapped all sensors to their coordinates\n",
    "\n",
    "sensor_coords = [('entrance0', (62, 186)),\n",
    "                 ('entrance1', (17, 132)),\n",
    "                 ('entrance2', (183, 112)),\n",
    "                 ('entrance3', (115, 32)),\n",
    "                 ('entrance4', (140, 15)),\n",
    "                 ('gate0', (63, 166)),\n",
    "                 ('gate1', (58, 155)),\n",
    "                 ('gate2', (24, 145)),\n",
    "                 ('gate3', (149, 139)),\n",
    "                 ('gate4', (164, 85)),\n",
    "                 ('gate5', (131, 53)),\n",
    "                 ('gate6', (116, 48)),\n",
    "                 ('gate7', (97, 39)),\n",
    "                 ('gate8', (138, 18)),\n",
    "                 ('camping0', (52, 158)),\n",
    "                 ('camping1', (129, 149)),\n",
    "                 ('camping2', (45, 131)),\n",
    "                 ('camping3', (44, 135)),\n",
    "                 ('camping4', (48, 110)),\n",
    "                 ('camping5', (20, 78)),\n",
    "                 ('camping6', (150, 22)),\n",
    "                 ('camping7', (181, 54)),\n",
    "                 ('camping8', (183, 151)),\n",
    "                 ('ranger-base', (128, 24)),\n",
    "                 ('ranger-stop0', (89, 183)),\n",
    "                 ('ranger-stop1', (19, 175)),\n",
    "                 ('ranger-stop2', (80, 164)),\n",
    "                 ('ranger-stop3', (148, 154)),\n",
    "                 ('ranger-stop4', (18, 104)),\n",
    "                 ('ranger-stop5', (151, 81)),\n",
    "                 ('ranger-stop6', (123, 52)),\n",
    "                 ('ranger-stop7', (100, 47)),\n",
    "                 ('general-gate0', (110, 190)),\n",
    "                 ('general-gate1', (64, 174)),\n",
    "                 ('general-gate2', (104, 167)),\n",
    "                 ('general-gate3', (186, 144)),\n",
    "                 ('general-gate4', (69, 101)),\n",
    "                 ('general-gate5', (124, 88)),\n",
    "                 ('general-gate6', (136, 62)),\n",
    "                 ('general-gate7', (65, 55))\n",
    "                 ]"
   ]
  },
  {
   "cell_type": "code",
   "execution_count": null,
   "metadata": {
    "pycharm": {
     "name": "#%%\n"
    }
   },
   "outputs": [],
   "source": [
    "#create tuples for each connected pair of sensors\n",
    "#omit duplicates, regardless of direction\n",
    "\n",
    "pairs = []\n",
    "for key, values in g.items():\n",
    "    for v in values:\n",
    "        pairs.append((key, v))\n",
    "pairs = {*map(tuple, map(sorted, pairs))}\n"
   ]
  },
  {
   "cell_type": "code",
   "execution_count": null,
   "metadata": {
    "pycharm": {
     "name": "#%%\n"
    }
   },
   "outputs": [],
   "source": [
    "#Find all distances between pairs\n",
    "dists = []\n",
    "for x in pairs:\n",
    "    start_coord = sensor_coords[[t[0] for t in sensor_coords].index(x[0])]\n",
    "    end_coord = sensor_coords[[t[0] for t in sensor_coords].index(x[1])]\n",
    "    dists.append([start_coord[0], end_coord[0], find_dist(start_coord[1], end_coord[1], 0)])"
   ]
  },
  {
   "cell_type": "code",
   "execution_count": null,
   "metadata": {
    "pycharm": {
     "name": "#%%\n"
    }
   },
   "outputs": [],
   "source": [
    "#convert distances to miles\n",
    "#one pixel (ie one distance) is 0.06 miles\n",
    "\n",
    "for x in dists:\n",
    "    x[2] = round(x[2]*0.06, 2)\n",
    "    print(x)\n",
    "#print(dists)"
   ]
  },
  {
   "cell_type": "code",
   "execution_count": null,
   "metadata": {
    "pycharm": {
     "name": "#%%\n"
    }
   },
   "outputs": [],
   "source": [
    "#dictionary with car id and car type as key\n",
    "car_id_dict = defaultdict(list)\n",
    "for x in range(len(data['car-id'])):\n",
    "    car_id_dict[(data['car-id'][x], data['car-type'][x])].append((data['Timestamp'][x], data['gate-name'][x]))"
   ]
  },
  {
   "cell_type": "code",
   "execution_count": null,
   "metadata": {
    "pycharm": {
     "name": "#%%\n"
    }
   },
   "outputs": [],
   "source": [
    "#sort car id dictionary by timestamp\n",
    "#this will show the 'path' of each car over time\n",
    "car_sorted = {x:sorted(car_id_dict[x]) for x in car_id_dict.keys()}"
   ]
  },
  {
   "cell_type": "code",
   "execution_count": null,
   "metadata": {
    "pycharm": {
     "name": "#%%\n"
    }
   },
   "outputs": [],
   "source": [
    "#get times between gates for each car\n",
    "car_times_bt_gates = defaultdict(list)\n",
    "for x in car_sorted.items():\n",
    "    for y in dists:\n",
    "        gate_times1 = [k for k, v in x[1] if v == y[0]]\n",
    "        gate_times2 = [k for k, v in x[1] if v == y[1]]\n",
    "        if gate_times1 and gate_times2:\n",
    "            car_times_bt_gates[x[0]].append([gate_times1, gate_times2, tuple(y)])\n",
    "        else:\n",
    "            continue\n"
   ]
  },
  {
   "cell_type": "code",
   "execution_count": null,
   "metadata": {
    "pycharm": {
     "name": "#%%\n"
    }
   },
   "outputs": [],
   "source": [
    "#separate times by which pair of gates is being passed\n",
    "time_by_gate = defaultdict(list)\n",
    "for x in car_times_bt_gates.items():\n",
    "    for y in x[1]:\n",
    "        time_by_gate[(y[2], x[0][1])].append([y[0], y[1]])"
   ]
  },
  {
   "cell_type": "code",
   "execution_count": null,
   "metadata": {
    "pycharm": {
     "name": "#%%\n"
    }
   },
   "outputs": [],
   "source": [
    "#for cases where cars passed through the same gates multiple times,\n",
    "#find the gates with the closest difference in time\n",
    "#to ensure the gates were visited back to back\n",
    "\n",
    "closest_times = defaultdict(list)\n",
    "for x in time_by_gate.items():\n",
    "    for y in x[1]:\n",
    "        closest = datetime.now() - datetime(2015, 1, 1, 1, 1, 1, 1)\n",
    "        diff = []\n",
    "        for z in y[0]:\n",
    "            temp = min(y[1], key=lambda t: abs(z-t))\n",
    "            diff.append(abs(z - temp))\n",
    "        closest_times[x[0]].append(min(diff))"
   ]
  },
  {
   "cell_type": "code",
   "execution_count": null,
   "metadata": {
    "pycharm": {
     "name": "#%%\n"
    }
   },
   "outputs": [],
   "source": [
    "#calculate speeds\n",
    "speeds = defaultdict(list)\n",
    "for x in closest_times.items():\n",
    "    for y in x[1]:\n",
    "        speeds[x[0]].append(x[0][0][2]/(y.total_seconds()/3600))\n",
    "\n",
    "#assign values for plotting\n",
    "x_vals = []\n",
    "y_vals = []\n",
    "hues = []\n",
    "for x in speeds.items():\n",
    "    hues.append(x[0][0])\n",
    "    y_vals.append(sum(x[1])/len(x[1]))\n",
    "    x_vals.append(x[0][1])\n"
   ]
  },
  {
   "cell_type": "code",
   "execution_count": null,
   "metadata": {
    "pycharm": {
     "name": "#%%\n"
    }
   },
   "outputs": [],
   "source": [
    "\n",
    "sns.lineplot(x=x_vals, y=y_vals)\n",
    "plt.show()"
   ]
  },
  {
   "cell_type": "code",
   "execution_count": null,
   "metadata": {
    "pycharm": {
     "name": "#%%\n"
    }
   },
   "outputs": [],
   "source": [
    "#dictionary with timestamp as key\n",
    "time_dict = defaultdict(list)\n",
    "for x in range(len(data['car-id'])):\n",
    "    time_dict[data['Timestamp'][x]].append((data['car-id'][x], data['gate-name'][x], data['car-type'][x]))\n"
   ]
  },
  {
   "cell_type": "code",
   "execution_count": null,
   "metadata": {
    "pycharm": {
     "name": "#%%\n"
    }
   },
   "outputs": [],
   "source": [
    "#dictionary with vehicle type as key\n",
    "car_type_dict = defaultdict(list)\n",
    "for x in range(len(data['car-id'])):\n",
    "    car_type_dict[data['car-type'][x]].append((data['Timestamp'][x], data['gate-name'][x], data['car-id'][x]))"
   ]
  },
  {
   "cell_type": "code",
   "execution_count": null,
   "metadata": {
    "pycharm": {
     "name": "#%%\n"
    }
   },
   "outputs": [],
   "source": [
    "#dictionary with sensor name as key\n",
    "gate_dict = defaultdict(list)\n",
    "for x in range(len(data['car-id'])):\n",
    "    gate_dict[data['gate-name'][x]].append((data['car-id'][x], data['Timestamp'][x], data['car-type'][x]))\n",
    "\n"
   ]
  },
  {
   "cell_type": "code",
   "execution_count": null,
   "metadata": {
    "pycharm": {
     "name": "#%%\n"
    }
   },
   "outputs": [],
   "source": [
    "# track individual cars\n",
    "print(\"Number of individual cars:\",len(data['car-id'].unique()))"
   ]
  },
  {
   "cell_type": "code",
   "execution_count": null,
   "metadata": {
    "pycharm": {
     "name": "#%%\n"
    }
   },
   "outputs": [],
   "source": [
    "# separate out by months and weekdays to see trends\n",
    "data['month'] = [d.strftime('%b') for d in data.Timestamp]\n",
    "data['day'] = [calendar.day_name[int(d.weekday())] for d in data.Timestamp]\n",
    "data['days'] = [d.weekday() for d in data.Timestamp]\n",
    "data['hours'] = [d.hour for d in data.Timestamp]\n",
    "data['months'] = [d.month for d in data.Timestamp]\n",
    "data.head()"
   ]
  },
  {
   "cell_type": "code",
   "execution_count": null,
   "metadata": {
    "pycharm": {
     "name": "#%%\n"
    }
   },
   "outputs": [],
   "source": [
    "# visualize data overall\n",
    "sns.countplot(x=data.month, hue=data['car-type'])"
   ]
  },
  {
   "cell_type": "code",
   "execution_count": null,
   "metadata": {
    "pycharm": {
     "name": "#%%\n"
    }
   },
   "outputs": [],
   "source": [
    "p = data.groupby(['months', 'car-type']).size()\n",
    "p.head()\n",
    "p.unstack().plot(legend=True)\n",
    "# starting in April, tourism increases, peaks in July, and crashes to November."
   ]
  },
  {
   "cell_type": "code",
   "execution_count": null,
   "metadata": {
    "pycharm": {
     "name": "#%%\n"
    }
   },
   "outputs": [],
   "source": [
    "l = data.groupby(['days','car-type']).size()\n",
    "l.unstack().plot(legend=True)\n",
    "# Weekends are more popular; count starts at Monday with 0 "
   ]
  },
  {
   "cell_type": "code",
   "execution_count": null,
   "metadata": {
    "pycharm": {
     "name": "#%%\n"
    }
   },
   "outputs": [],
   "source": [
    "m = data.groupby(['months','days','car-type']).size()\n",
    "m.unstack().plot(legend=True)\n",
    "# we can conclude that bus activity stays constant;\n",
    "# regular car activity really picks up in April and ends around October;\n",
    "# ranger activity also is more active in April compared to other months; maybe this is disturbing nesting?"
   ]
  },
  {
   "cell_type": "code",
   "execution_count": null,
   "metadata": {
    "pycharm": {
     "name": "#%%\n"
    }
   },
   "outputs": [],
   "source": [
    "n = data.groupby(['hours', 'car-type']).size()\n",
    "n.unstack().plot(legend=True)\n",
    "# we can conclude that the most popular times to visit the park are between 7am and 5pm; \n",
    "# ranger activity also follows this trend but bus and 4 axle truck activity are pretty much constant"
   ]
  },
  {
   "cell_type": "code",
   "execution_count": null,
   "metadata": {
    "pycharm": {
     "name": "#%%\n"
    }
   },
   "outputs": [],
   "source": [
    "graph = data.set_index('days')\n",
    "print(graph.head())\n",
    "graph.groupby('days').count().plot()\n",
    "# we can conclude that weekends are the most heavily visited time\n",
    "# reminder that the \"day\" count starts at 0 on Monday"
   ]
  },
  {
   "cell_type": "code",
   "execution_count": null,
   "metadata": {
    "pycharm": {
     "name": "#%%\n"
    }
   },
   "outputs": [],
   "source": [
    "j = data.groupby(['gate-name','car-type']).size()\n",
    "j.unstack().plot.bar(legend=True)\n",
    "# This indicates that general gate 7 is the gate that most people drive through. \n",
    "# there are some suspicious non-ranger activities in ranger stop 0 and ranger stop 2, but those two ranger \n",
    "# stops seem to be on the main roads, so maybe that is expected.\n",
    "# It makes sense that the most popular gate is gate 8, which leads to the ranger base\n",
    "# General Gate 0, General Gate 3, and the Camping 1 stop seem surprisingly unpopular; \n",
    "# seems like not many people go up that loop."
   ]
  },
  {
   "cell_type": "code",
   "execution_count": null,
   "metadata": {
    "pycharm": {
     "name": "#%%\n"
    }
   },
   "outputs": [],
   "source": [
    "#Unneeded code for now.\n",
    "#Keeping just in case.\n",
    "\n",
    "\n",
    "#create graph class\n",
    "\n",
    "# class Graph(object):\n",
    "#\n",
    "#     def __init__(self, graph_dict=None):\n",
    "#         if graph_dict == None:\n",
    "#             graph_dict = {}\n",
    "#         self._graph_dict = graph_dict\n",
    "#     def edges(self, vertex):\n",
    "#         return self._graph_dict[vertex]\n",
    "#     def all_vertices(self):\n",
    "#         return set(self._graph_dict.keys())\n",
    "#     def all_edges(self):\n",
    "#         return self._generate_edges()\n",
    "#     def add_vertex(self, vertex):\n",
    "#         if vertex not in self._graph_dict:\n",
    "#             self._graph_dict[vertex] = []\n",
    "#     def add_edge(self, edge):\n",
    "#         edge = set(edge)\n",
    "#         v1, v2 = tuple(edge)\n",
    "#         for x, y in [(v1, v2), (v2, v1)]:\n",
    "#             for x in self._graph_dict:\n",
    "#                 self._graph_dict[x].add(y)\n",
    "#             else:\n",
    "#                 self._graph_dict[x] = [y]\n",
    "#     def _generate_edges(self):\n",
    "#         edges = []\n",
    "#         for vertex in self._graph_dict:\n",
    "#             for neighbor in self._graph_dict[vertex]:\n",
    "#                 if {neighbor, vertex} not in edges:\n",
    "#                     edges.append({vertex, neighbor})\n",
    "#         return edges\n",
    "#     def __iter__(self):\n",
    "#         self._iter_obj = iter(self._graph_dict)\n",
    "#         return self._iter_obj\n",
    "#     def __next__(self):\n",
    "#         return next(self._iter_obj)\n",
    "#     def __str__(self):\n",
    "#         res = \"vertices: \"\n",
    "#         for k in self._graph_dict:\n",
    "#             res += str(k) + \" \"\n",
    "#         res += \"\\nedges: \"\n",
    "#         for edge in self._generate_edges():\n",
    "#             res += str(edge) + \" \"\n",
    "#         return res\n",
    "#\n",
    "#\n",
    "# g = Graph(g)"
   ]
  },
  {
   "cell_type": "code",
   "execution_count": null,
   "metadata": {},
   "outputs": [],
   "source": [
    "sns.violinplot(x=data.months, y=data['car-type'])\n",
    "# another way to show the trends of car type and activity in certain months.\n",
    "# we can again see that more ranger activity, and other activity starts in April, which may affect nesting"
   ]
  },
  {
   "cell_type": "code",
   "execution_count": null,
   "metadata": {},
   "outputs": [],
   "source": [
    "sns.violinplot(y=data.days, x=data['car-type'])\n",
    "# not sure this really gives us any information other than the fact that bus activity is maybe less \n",
    "# present on the weekends but car activity is more present on weekends"
   ]
  },
  {
   "cell_type": "code",
   "execution_count": null,
   "metadata": {},
   "outputs": [],
   "source": []
  }
 ],
 "metadata": {
  "kernelspec": {
   "display_name": "Python 3 (ipykernel)",
   "language": "python",
   "name": "python3"
  },
  "language_info": {
   "codemirror_mode": {
    "name": "ipython",
    "version": 3
   },
   "file_extension": ".py",
   "mimetype": "text/x-python",
   "name": "python",
   "nbconvert_exporter": "python",
   "pygments_lexer": "ipython3",
   "version": "3.9.10"
  }
 },
 "nbformat": 4,
 "nbformat_minor": 1
}
